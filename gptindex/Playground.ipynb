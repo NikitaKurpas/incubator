{
 "cells": [
  {
   "cell_type": "code",
   "execution_count": 2,
   "metadata": {},
   "outputs": [
    {
     "name": "stdout",
     "output_type": "stream",
     "text": [
      "\n",
      "\u001b[1m[\u001b[0m\u001b[34;49mnotice\u001b[0m\u001b[1;39;49m]\u001b[0m\u001b[39;49m A new release of pip is available: \u001b[0m\u001b[31;49m23.0.1\u001b[0m\u001b[39;49m -> \u001b[0m\u001b[32;49m23.1\u001b[0m\n",
      "\u001b[1m[\u001b[0m\u001b[34;49mnotice\u001b[0m\u001b[1;39;49m]\u001b[0m\u001b[39;49m To update, run: \u001b[0m\u001b[32;49mpip install --upgrade pip\u001b[0m\n",
      "Note: you may need to restart the kernel to use updated packages.\n",
      "Requirement already satisfied: openai in /usr/local/python/3.10.4/lib/python3.10/site-packages (0.27.4)\n",
      "Requirement already satisfied: tiktoken in /usr/local/python/3.10.4/lib/python3.10/site-packages (0.3.3)\n",
      "Requirement already satisfied: tqdm in /usr/local/python/3.10.4/lib/python3.10/site-packages (from openai) (4.65.0)\n",
      "Requirement already satisfied: requests>=2.20 in /home/codespace/.local/lib/python3.10/site-packages (from openai) (2.28.2)\n",
      "Requirement already satisfied: aiohttp in /usr/local/python/3.10.4/lib/python3.10/site-packages (from openai) (3.8.4)\n",
      "Requirement already satisfied: regex>=2022.1.18 in /usr/local/python/3.10.4/lib/python3.10/site-packages (from tiktoken) (2023.3.23)\n",
      "Requirement already satisfied: idna<4,>=2.5 in /home/codespace/.local/lib/python3.10/site-packages (from requests>=2.20->openai) (3.4)\n",
      "Requirement already satisfied: urllib3<1.27,>=1.21.1 in /home/codespace/.local/lib/python3.10/site-packages (from requests>=2.20->openai) (1.26.15)\n",
      "Requirement already satisfied: charset-normalizer<4,>=2 in /home/codespace/.local/lib/python3.10/site-packages (from requests>=2.20->openai) (3.1.0)\n",
      "Requirement already satisfied: certifi>=2017.4.17 in /home/codespace/.local/lib/python3.10/site-packages (from requests>=2.20->openai) (2022.12.7)\n",
      "Requirement already satisfied: yarl<2.0,>=1.0 in /usr/local/python/3.10.4/lib/python3.10/site-packages (from aiohttp->openai) (1.9.1)\n",
      "Requirement already satisfied: frozenlist>=1.1.1 in /usr/local/python/3.10.4/lib/python3.10/site-packages (from aiohttp->openai) (1.3.3)\n",
      "Requirement already satisfied: multidict<7.0,>=4.5 in /usr/local/python/3.10.4/lib/python3.10/site-packages (from aiohttp->openai) (6.0.4)\n",
      "Requirement already satisfied: async-timeout<5.0,>=4.0.0a3 in /usr/local/python/3.10.4/lib/python3.10/site-packages (from aiohttp->openai) (4.0.2)\n",
      "Requirement already satisfied: attrs>=17.3.0 in /home/codespace/.local/lib/python3.10/site-packages (from aiohttp->openai) (22.2.0)\n",
      "Requirement already satisfied: aiosignal>=1.1.2 in /usr/local/python/3.10.4/lib/python3.10/site-packages (from aiohttp->openai) (1.3.1)\n",
      "\n",
      "\u001b[1m[\u001b[0m\u001b[34;49mnotice\u001b[0m\u001b[1;39;49m]\u001b[0m\u001b[39;49m A new release of pip is available: \u001b[0m\u001b[31;49m23.0.1\u001b[0m\u001b[39;49m -> \u001b[0m\u001b[32;49m23.1\u001b[0m\n",
      "\u001b[1m[\u001b[0m\u001b[34;49mnotice\u001b[0m\u001b[1;39;49m]\u001b[0m\u001b[39;49m To update, run: \u001b[0m\u001b[32;49mpip install --upgrade pip\u001b[0m\n",
      "Note: you may need to restart the kernel to use updated packages.\n"
     ]
    }
   ],
   "source": [
    "%pip install -q -r requirements.txt\n",
    "%pip install openai tiktoken"
   ]
  },
  {
   "cell_type": "code",
   "execution_count": 3,
   "metadata": {},
   "outputs": [],
   "source": [
    "from qdrant_client import QdrantClient\n",
    "\n",
    "# Docs: https://github.com/qdrant/qdrant_client\n",
    "client = QdrantClient(host='qdrant', port=6333)"
   ]
  },
  {
   "cell_type": "code",
   "execution_count": 4,
   "metadata": {},
   "outputs": [
    {
     "name": "stderr",
     "output_type": "stream",
     "text": [
      "/home/codespace/.python/current/lib/python3.10/site-packages/tqdm/auto.py:21: TqdmWarning: IProgress not found. Please update jupyter and ipywidgets. See https://ipywidgets.readthedocs.io/en/stable/user_install.html\n",
      "  from .autonotebook import tqdm as notebook_tqdm\n"
     ]
    },
    {
     "name": "stdout",
     "output_type": "stream",
     "text": [
      "Collecting playwright==1.30.0\n",
      "  Downloading playwright-1.30.0-py3-none-manylinux1_x86_64.whl (32.9 MB)\n",
      "\u001b[2K     \u001b[90m━━━━━━━━━━━━━━━━━━━━━━━━━━━━━━━━━━━━━━━━\u001b[0m \u001b[32m32.9/32.9 MB\u001b[0m \u001b[31m3.1 MB/s\u001b[0m eta \u001b[36m0:00:00\u001b[0m00:01\u001b[0m00:01\u001b[0m\n",
      "\u001b[?25hCollecting pyee==9.0.4\n",
      "  Downloading pyee-9.0.4-py2.py3-none-any.whl (14 kB)\n",
      "Collecting greenlet==2.0.1\n",
      "  Downloading greenlet-2.0.1-cp310-cp310-manylinux_2_17_x86_64.manylinux2014_x86_64.whl (539 kB)\n",
      "\u001b[2K     \u001b[90m━━━━━━━━━━━━━━━━━━━━━━━━━━━━━━━━━━━━━━━\u001b[0m \u001b[32m539.9/539.9 kB\u001b[0m \u001b[31m7.1 MB/s\u001b[0m eta \u001b[36m0:00:00\u001b[0ma \u001b[36m0:00:01\u001b[0m\n",
      "\u001b[?25hRequirement already satisfied: typing-extensions in /home/codespace/.local/lib/python3.10/site-packages (from pyee==9.0.4->playwright==1.30.0->-r /home/codespace/.python/current/lib/python3.10/site-packages/llama_index/readers/llamahub_modules/web/readability_web/requirements.txt (line 1)) (4.5.0)\n",
      "Installing collected packages: pyee, greenlet, playwright\n",
      "  Attempting uninstall: greenlet\n",
      "    Found existing installation: greenlet 2.0.2\n",
      "    Uninstalling greenlet-2.0.2:\n",
      "      Successfully uninstalled greenlet-2.0.2\n",
      "Successfully installed greenlet-2.0.1 playwright-1.30.0 pyee-9.0.4\n"
     ]
    },
    {
     "name": "stderr",
     "output_type": "stream",
     "text": [
      "\n",
      "\u001b[1m[\u001b[0m\u001b[34;49mnotice\u001b[0m\u001b[1;39;49m]\u001b[0m\u001b[39;49m A new release of pip is available: \u001b[0m\u001b[31;49m23.0.1\u001b[0m\u001b[39;49m -> \u001b[0m\u001b[32;49m23.1\u001b[0m\n",
      "\u001b[1m[\u001b[0m\u001b[34;49mnotice\u001b[0m\u001b[1;39;49m]\u001b[0m\u001b[39;49m To update, run: \u001b[0m\u001b[32;49mpip install --upgrade pip\u001b[0m\n"
     ]
    }
   ],
   "source": [
    "from llama_index import download_loader\n",
    "\n",
    "ReadabilityWebPageReader = download_loader('ReadabilityWebPageReader')\n",
    "loader = ReadabilityWebPageReader()"
   ]
  },
  {
   "cell_type": "code",
   "execution_count": 5,
   "metadata": {},
   "outputs": [
    {
     "name": "stdout",
     "output_type": "stream",
     "text": [
      "Downloading Chromium 110.0.5481.38 (playwright build v1045)\u001b[2m from https://playwright.azureedge.net/builds/chromium/1045/chromium-linux.zip\u001b[22m\n",
      "\u001b[1G141.7 Mb [                    ] 0% 0.0s\u001b[0K\u001b[1G141.7 Mb [                    ] 0% 82.4s\u001b[0K\u001b[1G141.7 Mb [                    ] 0% 80.2s\u001b[0K\u001b[1G141.7 Mb [                    ] 0% 80.6s\u001b[0K\u001b[1G141.7 Mb [                    ] 0% 75.4s\u001b[0K\u001b[1G141.7 Mb [                    ] 0% 72.6s\u001b[0K\u001b[1G141.7 Mb [                    ] 0% 85.6s\u001b[0K\u001b[1G141.7 Mb [                    ] 0% 84.5s\u001b[0K\u001b[1G141.7 Mb [                    ] 0% 80.6s\u001b[0K\u001b[1G141.7 Mb [                    ] 0% 78.7s\u001b[0K\u001b[1G141.7 Mb [                    ] 0% 78.1s\u001b[0K\u001b[1G141.7 Mb [                    ] 0% 73.4s\u001b[0K\u001b[1G141.7 Mb [                    ] 0% 67.1s\u001b[0K\u001b[1G141.7 Mb [                    ] 0% 68.2s\u001b[0K\u001b[1G141.7 Mb [                    ] 0% 83.8s\u001b[0K\u001b[1G141.7 Mb [                    ] 0% 78.3s\u001b[0K\u001b[1G141.7 Mb [                    ] 0% 71.8s\u001b[0K\u001b[1G141.7 Mb [                    ] 0% 85.3s\u001b[0K\u001b[1G141.7 Mb [                    ] 0% 80.5s\u001b[0K\u001b[1G141.7 Mb [                    ] 0% 76.5s\u001b[0K\u001b[1G141.7 Mb [                    ] 0% 73.0s\u001b[0K\u001b[1G141.7 Mb [                    ] 0% 75.7s\u001b[0K\u001b[1G141.7 Mb [                    ] 0% 70.6s\u001b[0K\u001b[1G141.7 Mb [                    ] 0% 67.2s\u001b[0K\u001b[1G141.7 Mb [                    ] 0% 63.5s\u001b[0K\u001b[1G141.7 Mb [                    ] 1% 62.3s\u001b[0K\u001b[1G141.7 Mb [                    ] 1% 59.5s\u001b[0K\u001b[1G141.7 Mb [                    ] 1% 57.1s\u001b[0K\u001b[1G141.7 Mb [                    ] 1% 55.3s\u001b[0K\u001b[1G141.7 Mb [                    ] 1% 52.7s\u001b[0K\u001b[1G141.7 Mb [                    ] 1% 51.0s\u001b[0K\u001b[1G141.7 Mb [                    ] 1% 49.4s\u001b[0K\u001b[1G141.7 Mb [                    ] 1% 47.7s\u001b[0K\u001b[1G141.7 Mb [                    ] 1% 46.0s\u001b[0K\u001b[1G141.7 Mb [                    ] 1% 46.9s\u001b[0K\u001b[1G141.7 Mb [                    ] 1% 58.3s\u001b[0K\u001b[1G141.7 Mb [                    ] 1% 56.6s\u001b[0K\u001b[1G141.7 Mb [                    ] 1% 54.8s\u001b[0K\u001b[1G141.7 Mb [                    ] 1% 53.4s\u001b[0K\u001b[1G141.7 Mb [                    ] 2% 51.5s\u001b[0K\u001b[1G141.7 Mb [                    ] 2% 50.1s\u001b[0K\u001b[1G141.7 Mb [                    ] 2% 48.6s\u001b[0K\u001b[1G141.7 Mb [                    ] 2% 47.6s\u001b[0K\u001b[1G141.7 Mb [                    ] 2% 46.5s\u001b[0K\u001b[1G141.7 Mb [=                   ] 2% 45.5s\u001b[0K\u001b[1G141.7 Mb [=                   ] 2% 44.5s\u001b[0K\u001b[1G141.7 Mb [=                   ] 2% 43.4s\u001b[0K\u001b[1G141.7 Mb [=                   ] 2% 42.8s\u001b[0K\u001b[1G141.7 Mb [=                   ] 2% 43.0s\u001b[0K\u001b[1G141.7 Mb [=                   ] 2% 42.0s\u001b[0K\u001b[1G141.7 Mb [=                   ] 3% 41.1s\u001b[0K\u001b[1G141.7 Mb [=                   ] 3% 40.5s\u001b[0K\u001b[1G141.7 Mb [=                   ] 3% 39.6s\u001b[0K\u001b[1G141.7 Mb [=                   ] 3% 41.8s\u001b[0K\u001b[1G141.7 Mb [=                   ] 3% 41.1s\u001b[0K\u001b[1G141.7 Mb [=                   ] 3% 40.4s\u001b[0K\u001b[1G141.7 Mb [=                   ] 3% 42.2s\u001b[0K\u001b[1G141.7 Mb [=                   ] 3% 41.7s\u001b[0K\u001b[1G141.7 Mb [=                   ] 3% 41.8s\u001b[0K\u001b[1G141.7 Mb [=                   ] 3% 41.2s\u001b[0K\u001b[1G141.7 Mb [=                   ] 3% 40.2s\u001b[0K\u001b[1G141.7 Mb [=                   ] 3% 39.7s\u001b[0K\u001b[1G141.7 Mb [=                   ] 4% 39.1s\u001b[0K\u001b[1G141.7 Mb [=                   ] 4% 38.4s\u001b[0K\u001b[1G141.7 Mb [=                   ] 4% 38.3s\u001b[0K\u001b[1G141.7 Mb [=                   ] 4% 37.9s\u001b[0K\u001b[1G141.7 Mb [=                   ] 4% 37.4s\u001b[0K\u001b[1G141.7 Mb [=                   ] 4% 37.0s\u001b[0K\u001b[1G141.7 Mb [=                   ] 4% 36.5s\u001b[0K\u001b[1G141.7 Mb [=                   ] 4% 35.9s\u001b[0K\u001b[1G141.7 Mb [=                   ] 4% 35.5s\u001b[0K\u001b[1G141.7 Mb [=                   ] 4% 34.9s\u001b[0K\u001b[1G141.7 Mb [=                   ] 5% 34.6s\u001b[0K\u001b[1G141.7 Mb [=                   ] 5% 38.8s\u001b[0K\u001b[1G141.7 Mb [=                   ] 5% 38.9s\u001b[0K\u001b[1G141.7 Mb [=                   ] 5% 38.6s\u001b[0K\u001b[1G141.7 Mb [=                   ] 5% 37.7s\u001b[0K\u001b[1G141.7 Mb [=                   ] 5% 37.2s\u001b[0K\u001b[1G141.7 Mb [=                   ] 5% 36.8s\u001b[0K\u001b[1G141.7 Mb [=                   ] 5% 36.4s\u001b[0K\u001b[1G141.7 Mb [=                   ] 5% 36.1s\u001b[0K\u001b[1G141.7 Mb [=                   ] 6% 35.6s\u001b[0K\u001b[1G141.7 Mb [=                   ] 6% 35.2s\u001b[0K\u001b[1G141.7 Mb [=                   ] 6% 34.9s\u001b[0K\u001b[1G141.7 Mb [=                   ] 6% 34.5s\u001b[0K\u001b[1G141.7 Mb [=                   ] 6% 35.7s\u001b[0K\u001b[1G141.7 Mb [=                   ] 6% 35.8s\u001b[0K\u001b[1G141.7 Mb [=                   ] 6% 35.4s\u001b[0K\u001b[1G141.7 Mb [=                   ] 6% 36.6s\u001b[0K\u001b[1G141.7 Mb [=                   ] 6% 36.3s\u001b[0K\u001b[1G141.7 Mb [=                   ] 6% 36.0s\u001b[0K\u001b[1G141.7 Mb [=                   ] 6% 35.7s\u001b[0K\u001b[1G141.7 Mb [=                   ] 7% 35.4s\u001b[0K\u001b[1G141.7 Mb [=                   ] 7% 35.1s\u001b[0K\u001b[1G141.7 Mb [=                   ] 7% 34.8s\u001b[0K\u001b[1G141.7 Mb [=                   ] 7% 34.4s\u001b[0K\u001b[1G141.7 Mb [=                   ] 7% 34.0s\u001b[0K\u001b[1G141.7 Mb [==                  ] 7% 33.8s\u001b[0K\u001b[1G141.7 Mb [==                  ] 7% 33.6s\u001b[0K\u001b[1G141.7 Mb [==                  ] 7% 33.3s\u001b[0K\u001b[1G141.7 Mb [==                  ] 7% 33.0s\u001b[0K\u001b[1G141.7 Mb [==                  ] 7% 33.1s\u001b[0K\u001b[1G141.7 Mb [==                  ] 7% 32.9s\u001b[0K\u001b[1G141.7 Mb [==                  ] 8% 32.9s\u001b[0K\u001b[1G141.7 Mb [==                  ] 8% 32.3s\u001b[0K\u001b[1G141.7 Mb [==                  ] 8% 32.0s\u001b[0K\u001b[1G141.7 Mb [==                  ] 8% 34.4s\u001b[0K\u001b[1G141.7 Mb [==                  ] 8% 34.2s\u001b[0K\u001b[1G141.7 Mb [==                  ] 8% 33.9s\u001b[0K\u001b[1G141.7 Mb [==                  ] 8% 33.7s\u001b[0K\u001b[1G141.7 Mb [==                  ] 8% 33.5s\u001b[0K\u001b[1G141.7 Mb [==                  ] 8% 33.3s\u001b[0K\u001b[1G141.7 Mb [==                  ] 8% 33.0s\u001b[0K\u001b[1G141.7 Mb [==                  ] 9% 32.7s\u001b[0K\u001b[1G141.7 Mb [==                  ] 9% 32.8s\u001b[0K\u001b[1G141.7 Mb [==                  ] 9% 32.6s\u001b[0K\u001b[1G141.7 Mb [==                  ] 9% 32.4s\u001b[0K\u001b[1G141.7 Mb [==                  ] 9% 32.2s\u001b[0K\u001b[1G141.7 Mb [==                  ] 9% 32.0s\u001b[0K\u001b[1G141.7 Mb [==                  ] 9% 31.7s\u001b[0K\u001b[1G141.7 Mb [==                  ] 9% 31.5s\u001b[0K\u001b[1G141.7 Mb [==                  ] 9% 31.3s\u001b[0K\u001b[1G141.7 Mb [==                  ] 9% 31.0s\u001b[0K\u001b[1G141.7 Mb [==                  ] 10% 31.7s\u001b[0K\u001b[1G141.7 Mb [==                  ] 10% 31.5s\u001b[0K\u001b[1G141.7 Mb [==                  ] 10% 31.3s\u001b[0K\u001b[1G141.7 Mb [==                  ] 10% 32.1s\u001b[0K\u001b[1G141.7 Mb [==                  ] 10% 31.9s\u001b[0K\u001b[1G141.7 Mb [==                  ] 10% 31.7s\u001b[0K\u001b[1G141.7 Mb [==                  ] 10% 31.6s\u001b[0K\u001b[1G141.7 Mb [==                  ] 10% 31.7s\u001b[0K\u001b[1G141.7 Mb [==                  ] 10% 31.5s\u001b[0K\u001b[1G141.7 Mb [==                  ] 10% 31.3s\u001b[0K\u001b[1G141.7 Mb [==                  ] 10% 31.1s\u001b[0K\u001b[1G141.7 Mb [==                  ] 10% 30.9s\u001b[0K\u001b[1G141.7 Mb [==                  ] 11% 30.7s\u001b[0K\u001b[1G141.7 Mb [==                  ] 11% 30.6s\u001b[0K\u001b[1G141.7 Mb [==                  ] 11% 30.4s\u001b[0K\u001b[1G141.7 Mb [==                  ] 11% 30.2s\u001b[0K\u001b[1G141.7 Mb [==                  ] 11% 30.0s\u001b[0K\u001b[1G141.7 Mb [==                  ] 11% 29.9s\u001b[0K\u001b[1G141.7 Mb [==                  ] 11% 29.8s\u001b[0K\u001b[1G141.7 Mb [==                  ] 11% 29.6s\u001b[0K\u001b[1G141.7 Mb [==                  ] 11% 29.7s\u001b[0K\u001b[1G141.7 Mb [==                  ] 11% 31.2s\u001b[0K\u001b[1G141.7 Mb [==                  ] 11% 30.9s\u001b[0K\u001b[1G141.7 Mb [==                  ] 12% 30.7s\u001b[0K\u001b[1G141.7 Mb [==                  ] 12% 30.5s\u001b[0K\u001b[1G141.7 Mb [==                  ] 12% 30.3s\u001b[0K\u001b[1G141.7 Mb [==                  ] 12% 30.1s\u001b[0K\u001b[1G141.7 Mb [===                 ] 12% 29.9s\u001b[0K\u001b[1G141.7 Mb [===                 ] 12% 29.8s\u001b[0K\u001b[1G141.7 Mb [===                 ] 12% 29.6s\u001b[0K\u001b[1G141.7 Mb [===                 ] 12% 29.4s\u001b[0K\u001b[1G141.7 Mb [===                 ] 12% 29.2s\u001b[0K\u001b[1G141.7 Mb [===                 ] 13% 29.1s\u001b[0K\u001b[1G141.7 Mb [===                 ] 13% 28.9s\u001b[0K\u001b[1G141.7 Mb [===                 ] 13% 29.0s\u001b[0K\u001b[1G141.7 Mb [===                 ] 13% 28.8s\u001b[0K\u001b[1G141.7 Mb [===                 ] 13% 28.7s\u001b[0K\u001b[1G141.7 Mb [===                 ] 13% 28.8s\u001b[0K\u001b[1G141.7 Mb [===                 ] 13% 29.0s\u001b[0K\u001b[1G141.7 Mb [===                 ] 13% 28.9s\u001b[0K\u001b[1G141.7 Mb [===                 ] 13% 28.8s\u001b[0K\u001b[1G141.7 Mb [===                 ] 13% 29.2s\u001b[0K\u001b[1G141.7 Mb [===                 ] 13% 29.3s\u001b[0K\u001b[1G141.7 Mb [===                 ] 14% 29.3s\u001b[0K\u001b[1G141.7 Mb [===                 ] 14% 29.1s\u001b[0K\u001b[1G141.7 Mb [===                 ] 14% 29.0s\u001b[0K\u001b[1G141.7 Mb [===                 ] 14% 28.9s\u001b[0K\u001b[1G141.7 Mb [===                 ] 14% 28.8s\u001b[0K\u001b[1G141.7 Mb [===                 ] 14% 28.7s\u001b[0K\u001b[1G141.7 Mb [===                 ] 14% 28.8s\u001b[0K\u001b[1G141.7 Mb [===                 ] 14% 28.5s\u001b[0K\u001b[1G141.7 Mb [===                 ] 14% 28.4s\u001b[0K\u001b[1G141.7 Mb [===                 ] 14% 28.3s\u001b[0K\u001b[1G141.7 Mb [===                 ] 15% 28.3s\u001b[0K\u001b[1G141.7 Mb [===                 ] 15% 29.5s\u001b[0K\u001b[1G141.7 Mb [===                 ] 15% 29.6s\u001b[0K\u001b[1G141.7 Mb [===                 ] 15% 29.5s\u001b[0K\u001b[1G141.7 Mb [===                 ] 15% 29.4s\u001b[0K\u001b[1G141.7 Mb [===                 ] 15% 29.6s\u001b[0K\u001b[1G141.7 Mb [===                 ] 15% 29.4s\u001b[0K\u001b[1G141.7 Mb [===                 ] 15% 29.3s\u001b[0K\u001b[1G141.7 Mb [===                 ] 15% 29.2s\u001b[0K\u001b[1G141.7 Mb [===                 ] 15% 29.3s\u001b[0K\u001b[1G141.7 Mb [===                 ] 15% 29.1s\u001b[0K\u001b[1G141.7 Mb [===                 ] 15% 29.2s\u001b[0K\u001b[1G141.7 Mb [===                 ] 15% 29.6s\u001b[0K\u001b[1G141.7 Mb [===                 ] 15% 30.3s\u001b[0K\u001b[1G141.7 Mb [===                 ] 15% 30.2s\u001b[0K\u001b[1G141.7 Mb [===                 ] 16% 30.2s\u001b[0K\u001b[1G141.7 Mb [===                 ] 16% 30.1s\u001b[0K\u001b[1G141.7 Mb [===                 ] 16% 30.0s\u001b[0K\u001b[1G141.7 Mb [===                 ] 16% 29.9s\u001b[0K\u001b[1G141.7 Mb [===                 ] 16% 29.8s\u001b[0K\u001b[1G141.7 Mb [===                 ] 16% 29.7s\u001b[0K\u001b[1G141.7 Mb [===                 ] 16% 29.8s\u001b[0K\u001b[1G141.7 Mb [===                 ] 16% 29.7s\u001b[0K\u001b[1G141.7 Mb [===                 ] 16% 29.6s\u001b[0K\u001b[1G141.7 Mb [===                 ] 16% 29.5s\u001b[0K\u001b[1G141.7 Mb [===                 ] 17% 29.5s\u001b[0K\u001b[1G141.7 Mb [===                 ] 17% 30.5s\u001b[0K\u001b[1G141.7 Mb [===                 ] 17% 30.4s\u001b[0K\u001b[1G141.7 Mb [===                 ] 17% 30.5s\u001b[0K\u001b[1G141.7 Mb [===                 ] 17% 30.4s\u001b[0K\u001b[1G141.7 Mb [===                 ] 17% 30.3s\u001b[0K\u001b[1G141.7 Mb [====                ] 17% 30.3s\u001b[0K\u001b[1G141.7 Mb [====                ] 17% 30.2s\u001b[0K\u001b[1G141.7 Mb [====                ] 17% 30.1s\u001b[0K\u001b[1G141.7 Mb [====                ] 17% 30.0s\u001b[0K\u001b[1G141.7 Mb [====                ] 17% 29.9s\u001b[0K\u001b[1G141.7 Mb [====                ] 18% 29.8s\u001b[0K\u001b[1G141.7 Mb [====                ] 18% 29.7s\u001b[0K\u001b[1G141.7 Mb [====                ] 18% 30.0s\u001b[0K\u001b[1G141.7 Mb [====                ] 18% 29.9s\u001b[0K\u001b[1G141.7 Mb [====                ] 18% 29.8s\u001b[0K\u001b[1G141.7 Mb [====                ] 18% 30.2s\u001b[0K\u001b[1G141.7 Mb [====                ] 18% 30.1s\u001b[0K\u001b[1G141.7 Mb [====                ] 18% 30.0s\u001b[0K\u001b[1G141.7 Mb [====                ] 18% 29.9s\u001b[0K\u001b[1G141.7 Mb [====                ] 18% 29.8s\u001b[0K\u001b[1G141.7 Mb [====                ] 18% 29.7s\u001b[0K\u001b[1G141.7 Mb [====                ] 18% 29.6s\u001b[0K\u001b[1G141.7 Mb [====                ] 19% 29.6s\u001b[0K\u001b[1G141.7 Mb [====                ] 19% 29.5s\u001b[0K\u001b[1G141.7 Mb [====                ] 19% 29.3s\u001b[0K\u001b[1G141.7 Mb [====                ] 19% 29.2s\u001b[0K\u001b[1G141.7 Mb [====                ] 19% 29.0s\u001b[0K\u001b[1G141.7 Mb [====                ] 19% 28.9s\u001b[0K\u001b[1G141.7 Mb [====                ] 19% 28.8s\u001b[0K\u001b[1G141.7 Mb [====                ] 19% 29.7s\u001b[0K\u001b[1G141.7 Mb [====                ] 19% 29.6s\u001b[0K\u001b[1G141.7 Mb [====                ] 19% 29.5s\u001b[0K\u001b[1G141.7 Mb [====                ] 20% 29.4s\u001b[0K\u001b[1G141.7 Mb [====                ] 20% 29.2s\u001b[0K\u001b[1G141.7 Mb [====                ] 20% 29.3s\u001b[0K\u001b[1G141.7 Mb [====                ] 20% 29.2s\u001b[0K\u001b[1G141.7 Mb [====                ] 20% 29.1s\u001b[0K\u001b[1G141.7 Mb [====                ] 20% 29.0s\u001b[0K\u001b[1G141.7 Mb [====                ] 20% 28.9s\u001b[0K\u001b[1G141.7 Mb [====                ] 20% 28.8s\u001b[0K\u001b[1G141.7 Mb [====                ] 20% 28.7s\u001b[0K\u001b[1G141.7 Mb [====                ] 20% 28.6s\u001b[0K\u001b[1G141.7 Mb [====                ] 20% 28.5s\u001b[0K\u001b[1G141.7 Mb [====                ] 21% 28.5s\u001b[0K\u001b[1G141.7 Mb [====                ] 21% 28.3s\u001b[0K\u001b[1G141.7 Mb [====                ] 21% 28.6s\u001b[0K\u001b[1G141.7 Mb [====                ] 21% 28.5s\u001b[0K\u001b[1G141.7 Mb [====                ] 21% 29.7s\u001b[0K\u001b[1G141.7 Mb [====                ] 21% 29.5s\u001b[0K\u001b[1G141.7 Mb [====                ] 21% 29.6s\u001b[0K\u001b[1G141.7 Mb [====                ] 21% 31.1s\u001b[0K\u001b[1G141.7 Mb [====                ] 21% 31.2s\u001b[0K\u001b[1G141.7 Mb [====                ] 21% 31.3s\u001b[0K\u001b[1G141.7 Mb [====                ] 21% 32.1s\u001b[0K\u001b[1G141.7 Mb [====                ] 21% 32.0s\u001b[0K\u001b[1G141.7 Mb [====                ] 22% 31.9s\u001b[0K\u001b[1G141.7 Mb [====                ] 22% 31.8s\u001b[0K\u001b[1G141.7 Mb [====                ] 22% 31.7s\u001b[0K\u001b[1G141.7 Mb [====                ] 22% 31.6s\u001b[0K\u001b[1G141.7 Mb [====                ] 22% 31.5s\u001b[0K\u001b[1G141.7 Mb [=====               ] 22% 31.4s\u001b[0K\u001b[1G141.7 Mb [=====               ] 22% 31.3s\u001b[0K\u001b[1G141.7 Mb [=====               ] 22% 31.2s\u001b[0K\u001b[1G141.7 Mb [=====               ] 22% 31.1s\u001b[0K\u001b[1G141.7 Mb [=====               ] 22% 31.8s\u001b[0K\u001b[1G141.7 Mb [=====               ] 22% 31.7s\u001b[0K\u001b[1G141.7 Mb [=====               ] 23% 31.5s\u001b[0K\u001b[1G141.7 Mb [=====               ] 23% 31.4s\u001b[0K\u001b[1G141.7 Mb [=====               ] 23% 31.3s\u001b[0K\u001b[1G141.7 Mb [=====               ] 23% 31.2s\u001b[0K\u001b[1G141.7 Mb [=====               ] 23% 31.0s\u001b[0K\u001b[1G141.7 Mb [=====               ] 23% 30.9s\u001b[0K\u001b[1G141.7 Mb [=====               ] 23% 30.8s\u001b[0K\u001b[1G141.7 Mb [=====               ] 23% 30.7s\u001b[0K\u001b[1G141.7 Mb [=====               ] 23% 30.8s\u001b[0K\u001b[1G141.7 Mb [=====               ] 23% 30.7s\u001b[0K\u001b[1G141.7 Mb [=====               ] 24% 30.6s\u001b[0K\u001b[1G141.7 Mb [=====               ] 24% 30.5s\u001b[0K\u001b[1G141.7 Mb [=====               ] 24% 30.4s\u001b[0K\u001b[1G141.7 Mb [=====               ] 24% 30.3s\u001b[0K\u001b[1G141.7 Mb [=====               ] 24% 30.5s\u001b[0K\u001b[1G141.7 Mb [=====               ] 24% 30.4s\u001b[0K\u001b[1G141.7 Mb [=====               ] 24% 30.7s\u001b[0K\u001b[1G141.7 Mb [=====               ] 24% 30.6s\u001b[0K\u001b[1G141.7 Mb [=====               ] 24% 30.7s\u001b[0K\u001b[1G141.7 Mb [=====               ] 24% 30.6s\u001b[0K\u001b[1G141.7 Mb [=====               ] 24% 30.5s\u001b[0K\u001b[1G141.7 Mb [=====               ] 24% 30.4s\u001b[0K\u001b[1G141.7 Mb [=====               ] 25% 30.3s\u001b[0K\u001b[1G141.7 Mb [=====               ] 25% 30.2s\u001b[0K\u001b[1G141.7 Mb [=====               ] 25% 30.1s\u001b[0K\u001b[1G141.7 Mb [=====               ] 25% 30.0s\u001b[0K\u001b[1G141.7 Mb [=====               ] 25% 30.6s\u001b[0K\u001b[1G141.7 Mb [=====               ] 25% 30.5s\u001b[0K\u001b[1G141.7 Mb [=====               ] 25% 30.4s\u001b[0K\u001b[1G141.7 Mb [=====               ] 25% 30.3s\u001b[0K\u001b[1G141.7 Mb [=====               ] 25% 30.2s\u001b[0K\u001b[1G141.7 Mb [=====               ] 26% 30.1s\u001b[0K\u001b[1G141.7 Mb [=====               ] 26% 30.0s\u001b[0K\u001b[1G141.7 Mb [=====               ] 26% 29.9s\u001b[0K\u001b[1G141.7 Mb [=====               ] 26% 29.8s\u001b[0K\u001b[1G141.7 Mb [=====               ] 26% 29.7s\u001b[0K\u001b[1G141.7 Mb [=====               ] 26% 29.6s\u001b[0K\u001b[1G141.7 Mb [=====               ] 26% 29.5s\u001b[0K\u001b[1G141.7 Mb [=====               ] 26% 29.4s\u001b[0K\u001b[1G141.7 Mb [=====               ] 26% 30.1s\u001b[0K\u001b[1G141.7 Mb [=====               ] 27% 30.0s\u001b[0K\u001b[1G141.7 Mb [=====               ] 27% 29.9s\u001b[0K\u001b[1G141.7 Mb [=====               ] 27% 29.8s\u001b[0K\u001b[1G141.7 Mb [=====               ] 27% 29.7s\u001b[0K\u001b[1G141.7 Mb [======              ] 27% 29.5s\u001b[0K\u001b[1G141.7 Mb [======              ] 27% 29.4s\u001b[0K\u001b[1G141.7 Mb [======              ] 27% 29.3s\u001b[0K\u001b[1G141.7 Mb [======              ] 27% 30.0s\u001b[0K\u001b[1G141.7 Mb [======              ] 27% 29.9s\u001b[0K\u001b[1G141.7 Mb [======              ] 28% 29.9s\u001b[0K\u001b[1G141.7 Mb [======              ] 28% 29.8s\u001b[0K\u001b[1G141.7 Mb [======              ] 28% 29.7s\u001b[0K\u001b[1G141.7 Mb [======              ] 28% 29.6s\u001b[0K\u001b[1G141.7 Mb [======              ] 28% 29.5s\u001b[0K\u001b[1G141.7 Mb [======              ] 28% 29.4s\u001b[0K\u001b[1G141.7 Mb [======              ] 28% 29.3s\u001b[0K\u001b[1G141.7 Mb [======              ] 28% 29.2s\u001b[0K\u001b[1G141.7 Mb [======              ] 28% 29.1s\u001b[0K\u001b[1G141.7 Mb [======              ] 28% 29.0s\u001b[0K\u001b[1G141.7 Mb [======              ] 28% 29.7s\u001b[0K\u001b[1G141.7 Mb [======              ] 29% 29.6s\u001b[0K\u001b[1G141.7 Mb [======              ] 29% 29.4s\u001b[0K\u001b[1G141.7 Mb [======              ] 29% 29.3s\u001b[0K\u001b[1G141.7 Mb [======              ] 29% 29.2s\u001b[0K\u001b[1G141.7 Mb [======              ] 29% 29.1s\u001b[0K\u001b[1G141.7 Mb [======              ] 29% 29.0s\u001b[0K\u001b[1G141.7 Mb [======              ] 29% 28.9s\u001b[0K\u001b[1G141.7 Mb [======              ] 29% 28.7s\u001b[0K\u001b[1G141.7 Mb [======              ] 30% 28.6s\u001b[0K\u001b[1G141.7 Mb [======              ] 30% 29.5s\u001b[0K\u001b[1G141.7 Mb [======              ] 30% 29.3s\u001b[0K\u001b[1G141.7 Mb [======              ] 30% 29.2s\u001b[0K\u001b[1G141.7 Mb [======              ] 30% 29.1s\u001b[0K\u001b[1G141.7 Mb [======              ] 30% 29.0s\u001b[0K\u001b[1G141.7 Mb [======              ] 30% 29.1s\u001b[0K\u001b[1G141.7 Mb [======              ] 30% 29.0s\u001b[0K\u001b[1G141.7 Mb [======              ] 30% 28.8s\u001b[0K\u001b[1G141.7 Mb [======              ] 30% 28.7s\u001b[0K\u001b[1G141.7 Mb [======              ] 30% 28.6s\u001b[0K\u001b[1G141.7 Mb [======              ] 31% 28.5s\u001b[0K\u001b[1G141.7 Mb [======              ] 31% 28.9s\u001b[0K\u001b[1G141.7 Mb [======              ] 31% 28.7s\u001b[0K\u001b[1G141.7 Mb [======              ] 31% 28.8s\u001b[0K\u001b[1G141.7 Mb [======              ] 31% 28.5s\u001b[0K\u001b[1G141.7 Mb [======              ] 31% 28.4s\u001b[0K\u001b[1G141.7 Mb [======              ] 31% 28.3s\u001b[0K\u001b[1G141.7 Mb [======              ] 31% 28.2s\u001b[0K\u001b[1G141.7 Mb [======              ] 32% 28.1s\u001b[0K\u001b[1G141.7 Mb [======              ] 32% 28.0s\u001b[0K\u001b[1G141.7 Mb [======              ] 32% 27.9s\u001b[0K\u001b[1G141.7 Mb [======              ] 32% 27.8s\u001b[0K\u001b[1G141.7 Mb [=======             ] 32% 27.7s\u001b[0K\u001b[1G141.7 Mb [=======             ] 32% 27.6s\u001b[0K\u001b[1G141.7 Mb [=======             ] 32% 28.0s\u001b[0K\u001b[1G141.7 Mb [=======             ] 32% 27.9s\u001b[0K\u001b[1G141.7 Mb [=======             ] 32% 27.8s\u001b[0K\u001b[1G141.7 Mb [=======             ] 33% 27.7s\u001b[0K\u001b[1G141.7 Mb [=======             ] 33% 27.6s\u001b[0K\u001b[1G141.7 Mb [=======             ] 33% 27.5s\u001b[0K\u001b[1G141.7 Mb [=======             ] 33% 27.4s\u001b[0K\u001b[1G141.7 Mb [=======             ] 33% 27.3s\u001b[0K\u001b[1G141.7 Mb [=======             ] 33% 27.2s\u001b[0K\u001b[1G141.7 Mb [=======             ] 33% 27.1s\u001b[0K\u001b[1G141.7 Mb [=======             ] 34% 26.9s\u001b[0K\u001b[1G141.7 Mb [=======             ] 34% 27.2s\u001b[0K\u001b[1G141.7 Mb [=======             ] 34% 27.1s\u001b[0K\u001b[1G141.7 Mb [=======             ] 34% 27.0s\u001b[0K\u001b[1G141.7 Mb [=======             ] 34% 26.9s\u001b[0K\u001b[1G141.7 Mb [=======             ] 34% 26.8s\u001b[0K\u001b[1G141.7 Mb [=======             ] 34% 26.7s\u001b[0K\u001b[1G141.7 Mb [=======             ] 34% 26.6s\u001b[0K\u001b[1G141.7 Mb [=======             ] 35% 26.5s\u001b[0K\u001b[1G141.7 Mb [=======             ] 35% 26.4s\u001b[0K\u001b[1G141.7 Mb [=======             ] 35% 26.3s\u001b[0K\u001b[1G141.7 Mb [=======             ] 35% 26.2s\u001b[0K\u001b[1G141.7 Mb [=======             ] 35% 26.1s\u001b[0K\u001b[1G141.7 Mb [=======             ] 35% 26.0s\u001b[0K\u001b[1G141.7 Mb [=======             ] 35% 25.9s\u001b[0K\u001b[1G141.7 Mb [=======             ] 35% 26.3s\u001b[0K\u001b[1G141.7 Mb [=======             ] 35% 26.2s\u001b[0K\u001b[1G141.7 Mb [=======             ] 36% 26.1s\u001b[0K\u001b[1G141.7 Mb [=======             ] 36% 26.0s\u001b[0K\u001b[1G141.7 Mb [=======             ] 36% 25.8s\u001b[0K\u001b[1G141.7 Mb [=======             ] 36% 25.7s\u001b[0K\u001b[1G141.7 Mb [=======             ] 36% 25.6s\u001b[0K\u001b[1G141.7 Mb [=======             ] 36% 25.5s\u001b[0K\u001b[1G141.7 Mb [=======             ] 36% 26.9s\u001b[0K\u001b[1G141.7 Mb [=======             ] 37% 26.8s\u001b[0K\u001b[1G141.7 Mb [=======             ] 37% 26.7s\u001b[0K\u001b[1G141.7 Mb [=======             ] 37% 26.6s\u001b[0K\u001b[1G141.7 Mb [=======             ] 37% 26.5s\u001b[0K\u001b[1G141.7 Mb [========            ] 37% 26.3s\u001b[0K\u001b[1G141.7 Mb [========            ] 37% 26.2s\u001b[0K\u001b[1G141.7 Mb [========            ] 37% 26.1s\u001b[0K\u001b[1G141.7 Mb [========            ] 37% 26.2s\u001b[0K\u001b[1G141.7 Mb [========            ] 38% 26.5s\u001b[0K\u001b[1G141.7 Mb [========            ] 38% 26.4s\u001b[0K\u001b[1G141.7 Mb [========            ] 38% 26.3s\u001b[0K\u001b[1G141.7 Mb [========            ] 38% 26.2s\u001b[0K\u001b[1G141.7 Mb [========            ] 38% 26.1s\u001b[0K\u001b[1G141.7 Mb [========            ] 38% 26.0s\u001b[0K\u001b[1G141.7 Mb [========            ] 38% 25.9s\u001b[0K\u001b[1G141.7 Mb [========            ] 39% 25.8s\u001b[0K\u001b[1G141.7 Mb [========            ] 39% 26.2s\u001b[0K\u001b[1G141.7 Mb [========            ] 39% 26.1s\u001b[0K\u001b[1G141.7 Mb [========            ] 39% 26.0s\u001b[0K\u001b[1G141.7 Mb [========            ] 39% 25.9s\u001b[0K\u001b[1G141.7 Mb [========            ] 39% 25.8s\u001b[0K\u001b[1G141.7 Mb [========            ] 39% 25.9s\u001b[0K\u001b[1G141.7 Mb [========            ] 39% 25.8s\u001b[0K\u001b[1G141.7 Mb [========            ] 39% 25.7s\u001b[0K\u001b[1G141.7 Mb [========            ] 39% 25.8s\u001b[0K\u001b[1G141.7 Mb [========            ] 39% 25.7s\u001b[0K\u001b[1G141.7 Mb [========            ] 39% 26.0s\u001b[0K\u001b[1G141.7 Mb [========            ] 40% 26.0s\u001b[0K\u001b[1G141.7 Mb [========            ] 40% 25.9s\u001b[0K\u001b[1G141.7 Mb [========            ] 40% 25.8s\u001b[0K\u001b[1G141.7 Mb [========            ] 40% 25.7s\u001b[0K\u001b[1G141.7 Mb [========            ] 40% 26.2s\u001b[0K\u001b[1G141.7 Mb [========            ] 40% 26.1s\u001b[0K\u001b[1G141.7 Mb [========            ] 40% 26.0s\u001b[0K\u001b[1G141.7 Mb [========            ] 41% 26.0s\u001b[0K\u001b[1G141.7 Mb [========            ] 41% 26.1s\u001b[0K\u001b[1G141.7 Mb [========            ] 41% 26.0s\u001b[0K\u001b[1G141.7 Mb [========            ] 41% 26.1s\u001b[0K\u001b[1G141.7 Mb [========            ] 41% 26.0s\u001b[0K\u001b[1G141.7 Mb [========            ] 41% 25.9s\u001b[0K\u001b[1G141.7 Mb [========            ] 41% 25.8s\u001b[0K\u001b[1G141.7 Mb [========            ] 41% 25.7s\u001b[0K\u001b[1G141.7 Mb [========            ] 41% 25.6s\u001b[0K\u001b[1G141.7 Mb [========            ] 41% 25.7s\u001b[0K\u001b[1G141.7 Mb [========            ] 41% 25.6s\u001b[0K\u001b[1G141.7 Mb [========            ] 42% 25.6s\u001b[0K\u001b[1G141.7 Mb [========            ] 42% 25.9s\u001b[0K\u001b[1G141.7 Mb [========            ] 42% 25.8s\u001b[0K\u001b[1G141.7 Mb [========            ] 42% 26.5s\u001b[0K\u001b[1G141.7 Mb [========            ] 42% 26.4s\u001b[0K\u001b[1G141.7 Mb [=========           ] 42% 26.4s\u001b[0K\u001b[1G141.7 Mb [=========           ] 42% 26.3s\u001b[0K\u001b[1G141.7 Mb [=========           ] 42% 26.2s\u001b[0K\u001b[1G141.7 Mb [=========           ] 42% 26.5s\u001b[0K\u001b[1G141.7 Mb [=========           ] 43% 26.4s\u001b[0K\u001b[1G141.7 Mb [=========           ] 43% 26.5s\u001b[0K\u001b[1G141.7 Mb [=========           ] 43% 26.4s\u001b[0K\u001b[1G141.7 Mb [=========           ] 43% 26.3s\u001b[0K\u001b[1G141.7 Mb [=========           ] 43% 26.2s\u001b[0K\u001b[1G141.7 Mb [=========           ] 43% 26.3s\u001b[0K\u001b[1G141.7 Mb [=========           ] 43% 26.2s\u001b[0K\u001b[1G141.7 Mb [=========           ] 43% 26.3s\u001b[0K\u001b[1G141.7 Mb [=========           ] 43% 26.2s\u001b[0K\u001b[1G141.7 Mb [=========           ] 44% 26.2s\u001b[0K\u001b[1G141.7 Mb [=========           ] 44% 26.1s\u001b[0K\u001b[1G141.7 Mb [=========           ] 44% 26.4s\u001b[0K\u001b[1G141.7 Mb [=========           ] 44% 26.3s\u001b[0K\u001b[1G141.7 Mb [=========           ] 44% 26.4s\u001b[0K\u001b[1G141.7 Mb [=========           ] 44% 26.3s\u001b[0K\u001b[1G141.7 Mb [=========           ] 44% 26.2s\u001b[0K\u001b[1G141.7 Mb [=========           ] 44% 26.1s\u001b[0K\u001b[1G141.7 Mb [=========           ] 44% 26.2s\u001b[0K\u001b[1G141.7 Mb [=========           ] 44% 26.3s\u001b[0K\u001b[1G141.7 Mb [=========           ] 45% 26.3s\u001b[0K\u001b[1G141.7 Mb [=========           ] 45% 26.2s\u001b[0K\u001b[1G141.7 Mb [=========           ] 45% 26.1s\u001b[0K\u001b[1G141.7 Mb [=========           ] 45% 26.0s\u001b[0K\u001b[1G141.7 Mb [=========           ] 45% 25.9s\u001b[0K\u001b[1G141.7 Mb [=========           ] 45% 25.8s\u001b[0K\u001b[1G141.7 Mb [=========           ] 45% 25.7s\u001b[0K\u001b[1G141.7 Mb [=========           ] 45% 25.6s\u001b[0K\u001b[1G141.7 Mb [=========           ] 45% 25.9s\u001b[0K\u001b[1G141.7 Mb [=========           ] 46% 25.8s\u001b[0K\u001b[1G141.7 Mb [=========           ] 46% 25.7s\u001b[0K\u001b[1G141.7 Mb [=========           ] 46% 25.6s\u001b[0K\u001b[1G141.7 Mb [=========           ] 46% 25.5s\u001b[0K\u001b[1G141.7 Mb [=========           ] 46% 25.4s\u001b[0K\u001b[1G141.7 Mb [=========           ] 46% 25.3s\u001b[0K\u001b[1G141.7 Mb [=========           ] 46% 25.2s\u001b[0K\u001b[1G141.7 Mb [=========           ] 46% 25.1s\u001b[0K\u001b[1G141.7 Mb [=========           ] 47% 25.1s\u001b[0K\u001b[1G141.7 Mb [=========           ] 47% 25.0s\u001b[0K\u001b[1G141.7 Mb [=========           ] 47% 24.9s\u001b[0K\u001b[1G141.7 Mb [=========           ] 47% 25.0s\u001b[0K\u001b[1G141.7 Mb [=========           ] 47% 24.9s\u001b[0K\u001b[1G141.7 Mb [==========          ] 47% 24.9s\u001b[0K\u001b[1G141.7 Mb [==========          ] 47% 24.8s\u001b[0K\u001b[1G141.7 Mb [==========          ] 47% 24.7s\u001b[0K\u001b[1G141.7 Mb [==========          ] 47% 24.6s\u001b[0K\u001b[1G141.7 Mb [==========          ] 48% 24.5s\u001b[0K\u001b[1G141.7 Mb [==========          ] 48% 24.4s\u001b[0K\u001b[1G141.7 Mb [==========          ] 48% 24.3s\u001b[0K\u001b[1G141.7 Mb [==========          ] 48% 24.2s\u001b[0K\u001b[1G141.7 Mb [==========          ] 48% 24.1s\u001b[0K\u001b[1G141.7 Mb [==========          ] 48% 24.0s\u001b[0K\u001b[1G141.7 Mb [==========          ] 48% 23.9s\u001b[0K\u001b[1G141.7 Mb [==========          ] 48% 23.8s\u001b[0K\u001b[1G141.7 Mb [==========          ] 49% 24.0s\u001b[0K\u001b[1G141.7 Mb [==========          ] 49% 23.9s\u001b[0K\u001b[1G141.7 Mb [==========          ] 49% 23.8s\u001b[0K\u001b[1G141.7 Mb [==========          ] 49% 23.7s\u001b[0K\u001b[1G141.7 Mb [==========          ] 49% 23.6s\u001b[0K\u001b[1G141.7 Mb [==========          ] 49% 23.5s\u001b[0K\u001b[1G141.7 Mb [==========          ] 49% 23.4s\u001b[0K\u001b[1G141.7 Mb [==========          ] 49% 23.3s\u001b[0K\u001b[1G141.7 Mb [==========          ] 50% 23.2s\u001b[0K\u001b[1G141.7 Mb [==========          ] 50% 23.1s\u001b[0K\u001b[1G141.7 Mb [==========          ] 50% 23.0s\u001b[0K\u001b[1G141.7 Mb [==========          ] 50% 22.9s\u001b[0K\u001b[1G141.7 Mb [==========          ] 50% 22.8s\u001b[0K\u001b[1G141.7 Mb [==========          ] 50% 22.7s\u001b[0K\u001b[1G141.7 Mb [==========          ] 50% 22.6s\u001b[0K\u001b[1G141.7 Mb [==========          ] 50% 22.5s\u001b[0K\u001b[1G141.7 Mb [==========          ] 50% 22.6s\u001b[0K\u001b[1G141.7 Mb [==========          ] 51% 22.5s\u001b[0K\u001b[1G141.7 Mb [==========          ] 51% 22.4s\u001b[0K\u001b[1G141.7 Mb [==========          ] 51% 22.3s\u001b[0K\u001b[1G141.7 Mb [==========          ] 51% 22.2s\u001b[0K\u001b[1G141.7 Mb [==========          ] 51% 22.1s\u001b[0K\u001b[1G141.7 Mb [==========          ] 51% 22.0s\u001b[0K\u001b[1G141.7 Mb [==========          ] 51% 21.9s\u001b[0K\u001b[1G141.7 Mb [==========          ] 52% 21.9s\u001b[0K\u001b[1G141.7 Mb [==========          ] 52% 21.8s\u001b[0K\u001b[1G141.7 Mb [==========          ] 52% 21.7s\u001b[0K\u001b[1G141.7 Mb [==========          ] 52% 21.6s\u001b[0K\u001b[1G141.7 Mb [==========          ] 52% 21.5s\u001b[0K\u001b[1G141.7 Mb [===========         ] 52% 21.5s\u001b[0K\u001b[1G141.7 Mb [===========         ] 52% 21.4s\u001b[0K\u001b[1G141.7 Mb [===========         ] 52% 21.3s\u001b[0K\u001b[1G141.7 Mb [===========         ] 52% 21.2s\u001b[0K\u001b[1G141.7 Mb [===========         ] 53% 21.4s\u001b[0K\u001b[1G141.7 Mb [===========         ] 53% 21.3s\u001b[0K\u001b[1G141.7 Mb [===========         ] 53% 21.2s\u001b[0K\u001b[1G141.7 Mb [===========         ] 53% 21.1s\u001b[0K\u001b[1G141.7 Mb [===========         ] 53% 21.0s\u001b[0K\u001b[1G141.7 Mb [===========         ] 53% 20.9s\u001b[0K\u001b[1G141.7 Mb [===========         ] 53% 20.8s\u001b[0K\u001b[1G141.7 Mb [===========         ] 53% 20.7s\u001b[0K\u001b[1G141.7 Mb [===========         ] 54% 20.6s\u001b[0K\u001b[1G141.7 Mb [===========         ] 54% 20.5s\u001b[0K\u001b[1G141.7 Mb [===========         ] 54% 20.4s\u001b[0K\u001b[1G141.7 Mb [===========         ] 54% 20.3s\u001b[0K\u001b[1G141.7 Mb [===========         ] 54% 20.2s\u001b[0K\u001b[1G141.7 Mb [===========         ] 54% 20.1s\u001b[0K\u001b[1G141.7 Mb [===========         ] 54% 20.0s\u001b[0K\u001b[1G141.7 Mb [===========         ] 55% 20.0s\u001b[0K\u001b[1G141.7 Mb [===========         ] 55% 19.9s\u001b[0K\u001b[1G141.7 Mb [===========         ] 55% 19.8s\u001b[0K\u001b[1G141.7 Mb [===========         ] 55% 19.6s\u001b[0K\u001b[1G141.7 Mb [===========         ] 55% 19.5s\u001b[0K\u001b[1G141.7 Mb [===========         ] 56% 19.4s\u001b[0K\u001b[1G141.7 Mb [===========         ] 56% 19.3s\u001b[0K\u001b[1G141.7 Mb [===========         ] 56% 19.2s\u001b[0K\u001b[1G141.7 Mb [===========         ] 56% 19.1s\u001b[0K\u001b[1G141.7 Mb [===========         ] 56% 19.0s\u001b[0K\u001b[1G141.7 Mb [===========         ] 56% 18.9s\u001b[0K\u001b[1G141.7 Mb [===========         ] 56% 18.8s\u001b[0K\u001b[1G141.7 Mb [===========         ] 57% 18.7s\u001b[0K\u001b[1G141.7 Mb [===========         ] 57% 18.9s\u001b[0K\u001b[1G141.7 Mb [===========         ] 57% 18.8s\u001b[0K\u001b[1G141.7 Mb [===========         ] 57% 18.7s\u001b[0K\u001b[1G141.7 Mb [============        ] 57% 18.6s\u001b[0K\u001b[1G141.7 Mb [============        ] 57% 18.5s\u001b[0K\u001b[1G141.7 Mb [============        ] 57% 18.4s\u001b[0K\u001b[1G141.7 Mb [============        ] 58% 18.3s\u001b[0K\u001b[1G141.7 Mb [============        ] 58% 18.2s\u001b[0K\u001b[1G141.7 Mb [============        ] 58% 18.1s\u001b[0K\u001b[1G141.7 Mb [============        ] 58% 18.0s\u001b[0K\u001b[1G141.7 Mb [============        ] 58% 17.9s\u001b[0K\u001b[1G141.7 Mb [============        ] 58% 17.8s\u001b[0K\u001b[1G141.7 Mb [============        ] 58% 17.9s\u001b[0K\u001b[1G141.7 Mb [============        ] 59% 17.8s\u001b[0K\u001b[1G141.7 Mb [============        ] 59% 17.7s\u001b[0K\u001b[1G141.7 Mb [============        ] 59% 17.6s\u001b[0K\u001b[1G141.7 Mb [============        ] 59% 17.5s\u001b[0K\u001b[1G141.7 Mb [============        ] 59% 17.4s\u001b[0K\u001b[1G141.7 Mb [============        ] 59% 17.3s\u001b[0K\u001b[1G141.7 Mb [============        ] 60% 17.2s\u001b[0K\u001b[1G141.7 Mb [============        ] 60% 17.1s\u001b[0K\u001b[1G141.7 Mb [============        ] 60% 17.0s\u001b[0K\u001b[1G141.7 Mb [============        ] 60% 16.9s\u001b[0K\u001b[1G141.7 Mb [============        ] 60% 16.8s\u001b[0K\u001b[1G141.7 Mb [============        ] 60% 17.0s\u001b[0K\u001b[1G141.7 Mb [============        ] 60% 16.9s\u001b[0K\u001b[1G141.7 Mb [============        ] 61% 16.8s\u001b[0K\u001b[1G141.7 Mb [============        ] 61% 17.0s\u001b[0K\u001b[1G141.7 Mb [============        ] 61% 16.9s\u001b[0K\u001b[1G141.7 Mb [============        ] 61% 16.8s\u001b[0K\u001b[1G141.7 Mb [============        ] 61% 16.7s\u001b[0K\u001b[1G141.7 Mb [============        ] 61% 16.6s\u001b[0K\u001b[1G141.7 Mb [============        ] 62% 16.7s\u001b[0K\u001b[1G141.7 Mb [============        ] 62% 16.6s\u001b[0K\u001b[1G141.7 Mb [============        ] 62% 16.4s\u001b[0K\u001b[1G141.7 Mb [=============       ] 62% 16.4s\u001b[0K\u001b[1G141.7 Mb [=============       ] 62% 16.3s\u001b[0K\u001b[1G141.7 Mb [=============       ] 62% 16.2s\u001b[0K\u001b[1G141.7 Mb [=============       ] 62% 16.1s\u001b[0K\u001b[1G141.7 Mb [=============       ] 63% 16.1s\u001b[0K\u001b[1G141.7 Mb [=============       ] 63% 16.0s\u001b[0K\u001b[1G141.7 Mb [=============       ] 63% 15.9s\u001b[0K\u001b[1G141.7 Mb [=============       ] 63% 15.8s\u001b[0K\u001b[1G141.7 Mb [=============       ] 63% 15.7s\u001b[0K\u001b[1G141.7 Mb [=============       ] 64% 15.7s\u001b[0K\u001b[1G141.7 Mb [=============       ] 64% 15.6s\u001b[0K\u001b[1G141.7 Mb [=============       ] 64% 15.5s\u001b[0K\u001b[1G141.7 Mb [=============       ] 64% 15.4s\u001b[0K\u001b[1G141.7 Mb [=============       ] 64% 15.5s\u001b[0K\u001b[1G141.7 Mb [=============       ] 64% 15.4s\u001b[0K\u001b[1G141.7 Mb [=============       ] 64% 15.3s\u001b[0K\u001b[1G141.7 Mb [=============       ] 65% 15.3s\u001b[0K\u001b[1G141.7 Mb [=============       ] 65% 15.2s\u001b[0K\u001b[1G141.7 Mb [=============       ] 65% 15.1s\u001b[0K\u001b[1G141.7 Mb [=============       ] 65% 15.0s\u001b[0K\u001b[1G141.7 Mb [=============       ] 65% 14.9s\u001b[0K\u001b[1G141.7 Mb [=============       ] 66% 14.9s\u001b[0K\u001b[1G141.7 Mb [=============       ] 66% 14.8s\u001b[0K\u001b[1G141.7 Mb [=============       ] 66% 14.7s\u001b[0K\u001b[1G141.7 Mb [=============       ] 66% 14.6s\u001b[0K\u001b[1G141.7 Mb [=============       ] 66% 14.7s\u001b[0K\u001b[1G141.7 Mb [=============       ] 66% 14.6s\u001b[0K\u001b[1G141.7 Mb [=============       ] 66% 14.5s\u001b[0K\u001b[1G141.7 Mb [=============       ] 67% 14.5s\u001b[0K\u001b[1G141.7 Mb [=============       ] 67% 14.4s\u001b[0K\u001b[1G141.7 Mb [=============       ] 67% 14.3s\u001b[0K\u001b[1G141.7 Mb [==============      ] 67% 14.2s\u001b[0K\u001b[1G141.7 Mb [==============      ] 67% 14.1s\u001b[0K\u001b[1G141.7 Mb [==============      ] 68% 14.1s\u001b[0K\u001b[1G141.7 Mb [==============      ] 68% 14.0s\u001b[0K\u001b[1G141.7 Mb [==============      ] 68% 13.9s\u001b[0K\u001b[1G141.7 Mb [==============      ] 68% 13.8s\u001b[0K\u001b[1G141.7 Mb [==============      ] 68% 13.7s\u001b[0K\u001b[1G141.7 Mb [==============      ] 68% 13.6s\u001b[0K\u001b[1G141.7 Mb [==============      ] 68% 13.7s\u001b[0K\u001b[1G141.7 Mb [==============      ] 69% 13.6s\u001b[0K\u001b[1G141.7 Mb [==============      ] 69% 13.5s\u001b[0K\u001b[1G141.7 Mb [==============      ] 69% 13.4s\u001b[0K\u001b[1G141.7 Mb [==============      ] 69% 13.3s\u001b[0K\u001b[1G141.7 Mb [==============      ] 69% 13.2s\u001b[0K\u001b[1G141.7 Mb [==============      ] 70% 13.1s\u001b[0K\u001b[1G141.7 Mb [==============      ] 70% 13.2s\u001b[0K\u001b[1G141.7 Mb [==============      ] 70% 13.1s\u001b[0K\u001b[1G141.7 Mb [==============      ] 70% 13.0s\u001b[0K\u001b[1G141.7 Mb [==============      ] 70% 12.9s\u001b[0K\u001b[1G141.7 Mb [==============      ] 70% 12.8s\u001b[0K\u001b[1G141.7 Mb [==============      ] 71% 12.7s\u001b[0K\u001b[1G141.7 Mb [==============      ] 71% 12.6s\u001b[0K\u001b[1G141.7 Mb [==============      ] 71% 12.5s\u001b[0K\u001b[1G141.7 Mb [==============      ] 71% 12.6s\u001b[0K\u001b[1G141.7 Mb [==============      ] 71% 12.5s\u001b[0K\u001b[1G141.7 Mb [==============      ] 71% 12.4s\u001b[0K\u001b[1G141.7 Mb [==============      ] 71% 12.3s\u001b[0K\u001b[1G141.7 Mb [==============      ] 72% 12.3s\u001b[0K\u001b[1G141.7 Mb [==============      ] 72% 12.2s\u001b[0K\u001b[1G141.7 Mb [==============      ] 72% 12.1s\u001b[0K\u001b[1G141.7 Mb [===============     ] 72% 12.0s\u001b[0K\u001b[1G141.7 Mb [===============     ] 72% 12.1s\u001b[0K\u001b[1G141.7 Mb [===============     ] 72% 12.0s\u001b[0K\u001b[1G141.7 Mb [===============     ] 72% 11.9s\u001b[0K\u001b[1G141.7 Mb [===============     ] 73% 11.8s\u001b[0K\u001b[1G141.7 Mb [===============     ] 73% 11.7s\u001b[0K\u001b[1G141.7 Mb [===============     ] 73% 11.6s\u001b[0K\u001b[1G141.7 Mb [===============     ] 73% 11.5s\u001b[0K\u001b[1G141.7 Mb [===============     ] 73% 11.4s\u001b[0K\u001b[1G141.7 Mb [===============     ] 73% 11.5s\u001b[0K\u001b[1G141.7 Mb [===============     ] 74% 11.4s\u001b[0K\u001b[1G141.7 Mb [===============     ] 74% 11.3s\u001b[0K\u001b[1G141.7 Mb [===============     ] 74% 11.2s\u001b[0K\u001b[1G141.7 Mb [===============     ] 74% 11.1s\u001b[0K\u001b[1G141.7 Mb [===============     ] 74% 11.0s\u001b[0K\u001b[1G141.7 Mb [===============     ] 75% 10.9s\u001b[0K\u001b[1G141.7 Mb [===============     ] 75% 10.8s\u001b[0K\u001b[1G141.7 Mb [===============     ] 75% 10.9s\u001b[0K\u001b[1G141.7 Mb [===============     ] 75% 10.7s\u001b[0K\u001b[1G141.7 Mb [===============     ] 75% 10.6s\u001b[0K\u001b[1G141.7 Mb [===============     ] 75% 10.5s\u001b[0K\u001b[1G141.7 Mb [===============     ] 76% 10.5s\u001b[0K\u001b[1G141.7 Mb [===============     ] 76% 10.4s\u001b[0K\u001b[1G141.7 Mb [===============     ] 76% 10.3s\u001b[0K\u001b[1G141.7 Mb [===============     ] 76% 10.2s\u001b[0K\u001b[1G141.7 Mb [===============     ] 76% 10.1s\u001b[0K\u001b[1G141.7 Mb [===============     ] 76% 10.2s\u001b[0K\u001b[1G141.7 Mb [===============     ] 76% 10.1s\u001b[0K\u001b[1G141.7 Mb [===============     ] 76% 10.0s\u001b[0K\u001b[1G141.7 Mb [===============     ] 77% 10.0s\u001b[0K\u001b[1G141.7 Mb [===============     ] 77% 9.9s\u001b[0K\u001b[1G141.7 Mb [===============     ] 77% 9.8s\u001b[0K\u001b[1G141.7 Mb [================    ] 77% 9.7s\u001b[0K\u001b[1G141.7 Mb [================    ] 77% 9.6s\u001b[0K\u001b[1G141.7 Mb [================    ] 78% 9.5s\u001b[0K\u001b[1G141.7 Mb [================    ] 78% 9.4s\u001b[0K\u001b[1G141.7 Mb [================    ] 78% 9.3s\u001b[0K\u001b[1G141.7 Mb [================    ] 78% 9.2s\u001b[0K\u001b[1G141.7 Mb [================    ] 78% 9.1s\u001b[0K\u001b[1G141.7 Mb [================    ] 79% 9.1s\u001b[0K\u001b[1G141.7 Mb [================    ] 79% 9.0s\u001b[0K\u001b[1G141.7 Mb [================    ] 79% 8.9s\u001b[0K\u001b[1G141.7 Mb [================    ] 79% 8.8s\u001b[0K\u001b[1G141.7 Mb [================    ] 79% 8.7s\u001b[0K\u001b[1G141.7 Mb [================    ] 80% 8.6s\u001b[0K\u001b[1G141.7 Mb [================    ] 80% 8.5s\u001b[0K\u001b[1G141.7 Mb [================    ] 80% 8.4s\u001b[0K\u001b[1G141.7 Mb [================    ] 80% 8.3s\u001b[0K\u001b[1G141.7 Mb [================    ] 80% 8.2s\u001b[0K\u001b[1G141.7 Mb [================    ] 81% 8.2s\u001b[0K\u001b[1G141.7 Mb [================    ] 81% 8.1s\u001b[0K\u001b[1G141.7 Mb [================    ] 81% 8.0s\u001b[0K\u001b[1G141.7 Mb [================    ] 81% 7.9s\u001b[0K\u001b[1G141.7 Mb [================    ] 81% 7.8s\u001b[0K\u001b[1G141.7 Mb [================    ] 82% 7.7s\u001b[0K\u001b[1G141.7 Mb [================    ] 82% 7.6s\u001b[0K\u001b[1G141.7 Mb [================    ] 82% 7.5s\u001b[0K\u001b[1G141.7 Mb [=================   ] 82% 7.4s\u001b[0K\u001b[1G141.7 Mb [=================   ] 82% 7.3s\u001b[0K\u001b[1G141.7 Mb [=================   ] 82% 7.4s\u001b[0K\u001b[1G141.7 Mb [=================   ] 83% 7.3s\u001b[0K\u001b[1G141.7 Mb [=================   ] 83% 7.2s\u001b[0K\u001b[1G141.7 Mb [=================   ] 83% 7.1s\u001b[0K\u001b[1G141.7 Mb [=================   ] 83% 7.0s\u001b[0K\u001b[1G141.7 Mb [=================   ] 83% 6.9s\u001b[0K\u001b[1G141.7 Mb [=================   ] 84% 6.8s\u001b[0K\u001b[1G141.7 Mb [=================   ] 84% 6.7s\u001b[0K\u001b[1G141.7 Mb [=================   ] 84% 6.6s\u001b[0K\u001b[1G141.7 Mb [=================   ] 84% 6.5s\u001b[0K\u001b[1G141.7 Mb [=================   ] 84% 6.4s\u001b[0K\u001b[1G141.7 Mb [=================   ] 85% 6.4s\u001b[0K\u001b[1G141.7 Mb [=================   ] 85% 6.3s\u001b[0K\u001b[1G141.7 Mb [=================   ] 85% 6.2s\u001b[0K\u001b[1G141.7 Mb [=================   ] 85% 6.1s\u001b[0K\u001b[1G141.7 Mb [=================   ] 85% 6.0s\u001b[0K\u001b[1G141.7 Mb [=================   ] 86% 6.0s\u001b[0K\u001b[1G141.7 Mb [=================   ] 86% 5.9s\u001b[0K\u001b[1G141.7 Mb [=================   ] 86% 5.8s\u001b[0K\u001b[1G141.7 Mb [=================   ] 86% 5.7s\u001b[0K\u001b[1G141.7 Mb [=================   ] 86% 5.6s\u001b[0K\u001b[1G141.7 Mb [=================   ] 86% 5.5s\u001b[0K\u001b[1G141.7 Mb [=================   ] 87% 5.5s\u001b[0K\u001b[1G141.7 Mb [=================   ] 87% 5.4s\u001b[0K\u001b[1G141.7 Mb [==================  ] 87% 5.3s\u001b[0K\u001b[1G141.7 Mb [==================  ] 87% 5.2s\u001b[0K\u001b[1G141.7 Mb [==================  ] 87% 5.1s\u001b[0K\u001b[1G141.7 Mb [==================  ] 88% 5.1s\u001b[0K\u001b[1G141.7 Mb [==================  ] 88% 5.0s\u001b[0K\u001b[1G141.7 Mb [==================  ] 88% 4.9s\u001b[0K\u001b[1G141.7 Mb [==================  ] 88% 4.8s\u001b[0K\u001b[1G141.7 Mb [==================  ] 88% 4.7s\u001b[0K\u001b[1G141.7 Mb [==================  ] 89% 4.6s\u001b[0K\u001b[1G141.7 Mb [==================  ] 89% 4.5s\u001b[0K\u001b[1G141.7 Mb [==================  ] 89% 4.4s\u001b[0K\u001b[1G141.7 Mb [==================  ] 89% 4.3s\u001b[0K\u001b[1G141.7 Mb [==================  ] 89% 4.2s\u001b[0K\u001b[1G141.7 Mb [==================  ] 90% 4.2s\u001b[0K\u001b[1G141.7 Mb [==================  ] 90% 4.1s\u001b[0K\u001b[1G141.7 Mb [==================  ] 90% 4.0s\u001b[0K\u001b[1G141.7 Mb [==================  ] 90% 3.9s\u001b[0K\u001b[1G141.7 Mb [==================  ] 90% 3.8s\u001b[0K\u001b[1G141.7 Mb [==================  ] 91% 3.8s\u001b[0K\u001b[1G141.7 Mb [==================  ] 91% 3.7s\u001b[0K\u001b[1G141.7 Mb [==================  ] 91% 3.6s\u001b[0K\u001b[1G141.7 Mb [==================  ] 91% 3.5s\u001b[0K\u001b[1G141.7 Mb [==================  ] 91% 3.4s\u001b[0K\u001b[1G141.7 Mb [==================  ] 92% 3.4s\u001b[0K\u001b[1G141.7 Mb [==================  ] 92% 3.3s\u001b[0K\u001b[1G141.7 Mb [==================  ] 92% 3.2s\u001b[0K\u001b[1G141.7 Mb [=================== ] 92% 3.2s\u001b[0K\u001b[1G141.7 Mb [=================== ] 92% 3.1s\u001b[0K\u001b[1G141.7 Mb [=================== ] 92% 3.0s\u001b[0K\u001b[1G141.7 Mb [=================== ] 93% 3.0s\u001b[0K\u001b[1G141.7 Mb [=================== ] 93% 2.9s\u001b[0K\u001b[1G141.7 Mb [=================== ] 93% 2.8s\u001b[0K\u001b[1G141.7 Mb [=================== ] 93% 2.7s\u001b[0K\u001b[1G141.7 Mb [=================== ] 93% 2.6s\u001b[0K\u001b[1G141.7 Mb [=================== ] 94% 2.5s\u001b[0K\u001b[1G141.7 Mb [=================== ] 94% 2.4s\u001b[0K\u001b[1G141.7 Mb [=================== ] 94% 2.3s\u001b[0K\u001b[1G141.7 Mb [=================== ] 94% 2.2s\u001b[0K\u001b[1G141.7 Mb [=================== ] 94% 2.1s\u001b[0K\u001b[1G141.7 Mb [=================== ] 95% 2.2s\u001b[0K\u001b[1G141.7 Mb [=================== ] 95% 2.1s\u001b[0K\u001b[1G141.7 Mb [=================== ] 95% 2.0s\u001b[0K\u001b[1G141.7 Mb [=================== ] 95% 1.9s\u001b[0K\u001b[1G141.7 Mb [=================== ] 95% 1.8s\u001b[0K\u001b[1G141.7 Mb [=================== ] 95% 1.7s\u001b[0K\u001b[1G141.7 Mb [=================== ] 96% 1.7s\u001b[0K\u001b[1G141.7 Mb [=================== ] 96% 1.6s\u001b[0K\u001b[1G141.7 Mb [=================== ] 96% 1.5s\u001b[0K\u001b[1G141.7 Mb [=================== ] 96% 1.4s\u001b[0K\u001b[1G141.7 Mb [=================== ] 96% 1.3s\u001b[0K\u001b[1G141.7 Mb [=================== ] 97% 1.3s\u001b[0K\u001b[1G141.7 Mb [=================== ] 97% 1.2s\u001b[0K\u001b[1G141.7 Mb [=================== ] 97% 1.1s\u001b[0K\u001b[1G141.7 Mb [====================] 97% 1.1s\u001b[0K\u001b[1G141.7 Mb [====================] 97% 1.0s\u001b[0K\u001b[1G141.7 Mb [====================] 97% 0.9s\u001b[0K\u001b[1G141.7 Mb [====================] 98% 0.9s\u001b[0K\u001b[1G141.7 Mb [====================] 98% 0.8s\u001b[0K\u001b[1G141.7 Mb [====================] 98% 0.7s\u001b[0K\u001b[1G141.7 Mb [====================] 98% 0.6s\u001b[0K\u001b[1G141.7 Mb [====================] 98% 0.5s\u001b[0K\u001b[1G141.7 Mb [====================] 99% 0.4s\u001b[0K\u001b[1G141.7 Mb [====================] 99% 0.3s\u001b[0K\u001b[1G141.7 Mb [====================] 99% 0.2s\u001b[0K\u001b[1G141.7 Mb [====================] 99% 0.1s\u001b[0K\u001b[1G141.7 Mb [====================] 99% 0.0s\u001b[0K\u001b[1G141.7 Mb [====================] 100% 0.0s\u001b[0K\n",
      "Chromium 110.0.5481.38 (playwright build v1045) downloaded to /home/codespace/.cache/ms-playwright/chromium-1045\n",
      "Downloading FFMPEG playwright build v1008\u001b[2m from https://playwright.azureedge.net/builds/ffmpeg/1008/ffmpeg-linux.zip\u001b[22m\n",
      "\u001b[1G2.6 Mb [                    ] 0% 0.0s\u001b[0K\u001b[1G2.6 Mb [=                   ] 3% 0.7s\u001b[0K\u001b[1G2.6 Mb [=                   ] 7% 0.6s\u001b[0K\u001b[1G2.6 Mb [==                  ] 12% 0.5s\u001b[0K\u001b[1G2.6 Mb [===                 ] 12% 0.6s\u001b[0K\u001b[1G2.6 Mb [===                 ] 17% 0.5s\u001b[0K\u001b[1G2.6 Mb [====                ] 21% 0.5s\u001b[0K\u001b[1G2.6 Mb [=====               ] 24% 0.5s\u001b[0K\u001b[1G2.6 Mb [======              ] 28% 0.4s\u001b[0K\u001b[1G2.6 Mb [======              ] 32% 0.4s\u001b[0K\u001b[1G2.6 Mb [=======             ] 34% 0.4s\u001b[0K\u001b[1G2.6 Mb [=======             ] 37% 0.4s\u001b[0K\u001b[1G2.6 Mb [========            ] 37% 0.5s\u001b[0K\u001b[1G2.6 Mb [========            ] 40% 0.5s\u001b[0K\u001b[1G2.6 Mb [=========           ] 44% 0.4s\u001b[0K\u001b[1G2.6 Mb [=========           ] 45% 0.6s\u001b[0K\u001b[1G2.6 Mb [==========          ] 48% 0.5s\u001b[0K\u001b[1G2.6 Mb [==========          ] 51% 0.5s\u001b[0K\u001b[1G2.6 Mb [===========         ] 54% 0.4s\u001b[0K\u001b[1G2.6 Mb [===========         ] 56% 0.4s\u001b[0K\u001b[1G2.6 Mb [============        ] 59% 0.4s\u001b[0K\u001b[1G2.6 Mb [============        ] 62% 0.3s\u001b[0K\u001b[1G2.6 Mb [=============       ] 64% 0.3s\u001b[0K\u001b[1G2.6 Mb [=============       ] 67% 0.3s\u001b[0K\u001b[1G2.6 Mb [==============      ] 70% 0.3s\u001b[0K\u001b[1G2.6 Mb [===============     ] 73% 0.2s\u001b[0K\u001b[1G2.6 Mb [================    ] 77% 0.2s\u001b[0K\u001b[1G2.6 Mb [================    ] 81% 0.2s\u001b[0K\u001b[1G2.6 Mb [=================   ] 84% 0.1s\u001b[0K\u001b[1G2.6 Mb [==================  ] 87% 0.1s\u001b[0K\u001b[1G2.6 Mb [==================  ] 91% 0.1s\u001b[0K\u001b[1G2.6 Mb [=================== ] 95% 0.0s\u001b[0K\u001b[1G2.6 Mb [=================== ] 97% 0.0s\u001b[0K\u001b[1G2.6 Mb [====================] 100% 0.0s\u001b[0K\n",
      "FFMPEG playwright build v1008 downloaded to /home/codespace/.cache/ms-playwright/ffmpeg-1008\n"
     ]
    }
   ],
   "source": [
    "!playwright install chromium"
   ]
  },
  {
   "cell_type": "code",
   "execution_count": 6,
   "metadata": {},
   "outputs": [
    {
     "name": "stdout",
     "output_type": "stream",
     "text": [
      "scraped: https://lethain.com/forty-year-career/\n",
      "1\n",
      "title: A forty-year career.\n",
      "length: 15196\n",
      "excerpt: The Silicon Valley narrative centers on entrepreneurial protagonists who are poised one predestined step away from changing the world. A decade ago they were heroes, and more recently they’ve become villains, but either way they are absolutely the protagonists. Working within the industry, I’ve worked with quite a few non-protagonists who experience their time in technology differently: a period of obligatory toil required to pry open the gate to the American Dream.\n",
      "byline: None\n",
      "dir: None\n",
      "lang: en-us\n",
      "siteName: None\n"
     ]
    }
   ],
   "source": [
    "import asyncio\n",
    "\n",
    "async def load_data(url):\n",
    "    return await asyncio.to_thread(loader.load_data, url)\n",
    "\n",
    "async def load_langchain_documents(url):\n",
    "    return await asyncio.to_thread(loader.load_langchain_documents, url=url)\n",
    "\n",
    "documents = await load_data('https://lethain.com/forty-year-career/')\n",
    "len(documents)\n"
   ]
  },
  {
   "cell_type": "code",
   "execution_count": 11,
   "metadata": {},
   "outputs": [
    {
     "name": "stdout",
     "output_type": "stream",
     "text": [
      "title: A forty-year career.\n",
      "length: 15196\n",
      "excerpt: The Silicon Valley narrative centers on entrepreneurial protagonists who are poised one predestined step away from changing the world. A decade ago they were heroes, and more recently they’ve become villains, but either way they are absolutely the protagonists. Working within the industry, I’ve worked with quite a few non-protagonists who experience their time in technology differently: a period of obligatory toil required to pry open the gate to the American Dream.\n",
      "byline: None\n",
      "dir: None\n",
      "lang: en-us\n",
      "siteName: None\n"
     ]
    }
   ],
   "source": [
    "print(documents[0].extra_info_str)\n"
   ]
  },
  {
   "cell_type": "code",
   "execution_count": 13,
   "metadata": {},
   "outputs": [
    {
     "data": {
      "text/plain": [
       "27"
      ]
     },
     "execution_count": 13,
     "metadata": {},
     "output_type": "execute_result"
    }
   ],
   "source": [
    "from llama_index.node_parser import SimpleNodeParser\n",
    "from langchain.text_splitter import RecursiveCharacterTextSplitter\n",
    "\n",
    "text_splitter = RecursiveCharacterTextSplitter.from_tiktoken_encoder(chunk_size=256, chunk_overlap=32, encoding_name=\"cl100k_base\")\n",
    "parser = SimpleNodeParser(text_splitter, include_extra_info=False)\n",
    "nodes = parser.get_nodes_from_documents(documents)\n",
    "len(nodes)"
   ]
  },
  {
   "cell_type": "code",
   "execution_count": 14,
   "metadata": {},
   "outputs": [
    {
     "data": {
      "text/plain": [
       "Node(text='The Silicon Valley narrative centers on entrepreneurial protagonists who are poised one predestined step away from changing the world. A decade ago they were heroes, and more recently they’ve become villains, but either way they are absolutely the protagonists. (Although, perhaps the role of protagonist is expanding a bit.) Working within the industry, I’ve worked with quite a few non-protagonists who experience their time in technology differently: a period of obligatory toil required to pry open the gate to the American Dream.For some, this perspectives builds from the industry’s persistent, casual discrimination and indifference to their lived experiences, but I’ve', doc_id='d6f04f77-93a1-444e-89f2-000e5278e309', embedding=None, doc_hash='21381893f0ec8b17d5a8be828c94280552cbdc49b088a7a228d7ff576669faff', extra_info=None, node_info=None, relationships={<DocumentRelationship.SOURCE: '1'>: '68b5b80e-7212-433a-829b-bc5de10d6705', <DocumentRelationship.NEXT: '3'>: '52b147ca-1c0e-45fa-8e1c-7b08b502b8d5'})"
      ]
     },
     "execution_count": 14,
     "metadata": {},
     "output_type": "execute_result"
    }
   ],
   "source": [
    "nodes[0]"
   ]
  },
  {
   "cell_type": "code",
   "execution_count": 115,
   "metadata": {},
   "outputs": [
    {
     "name": "stdout",
     "output_type": "stream",
     "text": [
      "47\n",
      "page_content='The Silicon Valley narrative centers on entrepreneurial protagonists who are poised one predestined step away from changing the world. A decade ago they were heroes, and more recently they’ve become villains, but either way they are absolutely the protagonists. (Although, perhaps the role of protagonist is expanding a bit.)' metadata={}\n"
     ]
    }
   ],
   "source": [
    "# from llama_index import Document\n",
    "# from langchain.text_splitter import RecursiveCharacterTextSplitter\n",
    "\n",
    "# text_splitter = RecursiveCharacterTextSplitter.from_tiktoken_encoder(chunk_size=128, chunk_overlap=0, encoding_name=\"cl100k_base\")\n",
    "\n",
    "# def to_langchain_format(document):\n",
    "#     return Document(text=document.text).to_langchain_format()\n",
    "\n",
    "# split_lcdocuments = text_splitter.split_documents([to_langchain_format(d) for d in documents])\n",
    "\n",
    "# print(len(split_lcdocuments))\n",
    "# print(split_lcdocuments[0])\n"
   ]
  },
  {
   "cell_type": "code",
   "execution_count": 121,
   "metadata": {},
   "outputs": [
    {
     "data": {
      "text/markdown": [
       "but forty years.It’s strange to realize that I lost sight of the forty-year career model, because for a long time it was the only model I knew. Growing up, a white collar career was my only reference point for participating in America’s dwindling middle class. It never occurred to me that alternatives existed,"
      ],
      "text/plain": [
       "<IPython.core.display.Markdown object>"
      ]
     },
     "metadata": {},
     "output_type": "display_data"
    },
    {
     "name": "stdout",
     "output_type": "stream",
     "text": [
      "{}\n"
     ]
    }
   ],
   "source": [
    "# lcdoc = split_lcdocuments[4]\n",
    "# display_markdown(lcdoc.page_content)\n",
    "# print(lcdoc.metadata)"
   ]
  },
  {
   "cell_type": "code",
   "execution_count": 15,
   "metadata": {},
   "outputs": [
    {
     "name": "stderr",
     "output_type": "stream",
     "text": [
      "INFO:httpx:HTTP Request: DELETE http://qdrant:6333/collections/test \"HTTP/1.1 200 OK\"\n"
     ]
    },
    {
     "data": {
      "text/plain": [
       "True"
      ]
     },
     "execution_count": 15,
     "metadata": {},
     "output_type": "execute_result"
    }
   ],
   "source": [
    "# empty the collection\n",
    "client.delete_collection('test')"
   ]
  },
  {
   "cell_type": "code",
   "execution_count": 26,
   "metadata": {},
   "outputs": [
    {
     "name": "stderr",
     "output_type": "stream",
     "text": [
      "INFO:httpx:HTTP Request: GET http://qdrant:6333/collections/test \"HTTP/1.1 200 OK\"\n",
      "INFO:llama_index.token_counter.token_counter:> [build_index_from_nodes] Total LLM token usage: 0 tokens\n",
      "INFO:llama_index.token_counter.token_counter:> [build_index_from_nodes] Total embedding token usage: 0 tokens\n"
     ]
    },
    {
     "data": {
      "text/plain": [
       "<llama_index.indices.vector_store.vector_indices.GPTQdrantIndex at 0x7f5306b022f0>"
      ]
     },
     "execution_count": 26,
     "metadata": {},
     "output_type": "execute_result"
    }
   ],
   "source": [
    "from llama_index import GPTQdrantIndex, LLMPredictor, ServiceContext, PromptHelper\n",
    "from llama_index.embeddings.openai import OpenAIEmbedding, OpenAIEmbeddingModelType\n",
    "from langchain import OpenAI\n",
    "\n",
    "# define LLM with custom params\n",
    "embed_model = OpenAIEmbedding(model=OpenAIEmbeddingModelType.TEXT_EMBED_ADA_002)\n",
    "llm_predictor = LLMPredictor(llm=OpenAI(temperature=0, model_name=\"text-davinci-003\", max_tokens=1024))\n",
    "prompt_helper = PromptHelper(max_input_size=768, num_output=256, max_chunk_overlap=0)\n",
    "service_context = ServiceContext.from_defaults(embed_model=embed_model, llm_predictor=llm_predictor, prompt_helper=prompt_helper)\n",
    "\n",
    "# construct the index\n",
    "index = GPTQdrantIndex(nodes=[], client=client, collection_name='test', service_context=service_context)\n",
    "index"
   ]
  },
  {
   "cell_type": "code",
   "execution_count": 18,
   "metadata": {},
   "outputs": [
    {
     "name": "stderr",
     "output_type": "stream",
     "text": [
      "INFO:httpx:HTTP Request: DELETE http://qdrant:6333/collections/test \"HTTP/1.1 200 OK\"\n",
      "INFO:httpx:HTTP Request: PUT http://qdrant:6333/collections/test \"HTTP/1.1 200 OK\"\n",
      "INFO:httpx:HTTP Request: PUT http://qdrant:6333/collections/test/points?wait=true \"HTTP/1.1 200 OK\"\n",
      "INFO:llama_index.token_counter.token_counter:> [insert] Total LLM token usage: 0 tokens\n",
      "INFO:llama_index.token_counter.token_counter:> [insert] Total embedding token usage: 3690 tokens\n"
     ]
    }
   ],
   "source": [
    "index.insert_nodes(nodes)"
   ]
  },
  {
   "cell_type": "code",
   "execution_count": 19,
   "metadata": {},
   "outputs": [
    {
     "name": "stderr",
     "output_type": "stream",
     "text": [
      "INFO:httpx:HTTP Request: GET http://qdrant:6333/collections/test \"HTTP/1.1 200 OK\"\n",
      "INFO:httpx:HTTP Request: POST http://qdrant:6333/collections/test/points/search \"HTTP/1.1 200 OK\"\n"
     ]
    },
    {
     "name": "stdout",
     "output_type": "stream",
     "text": [
      "5\n"
     ]
    },
    {
     "data": {
      "text/plain": [
       "{'doc_id': '68b5b80e-7212-433a-829b-bc5de10d6705',\n",
       " 'extra_info': None,\n",
       " 'text': 'mentor gave me the savvy advice that the fastest path to financial success was working for four years at three different just-about-to-IPO companies. A surefire way to retire by forty. (This is, for the record, pretty good advice.)At Uber, another friend told me I was looking at a frustrating situation the wrong way, the way they viewed their work was, “Each day I walk into work, and this slot opens up above my head, and money falls out of it into my hands, then the slot closes. I go about my day, and the next day I come back, and the slot reopens; more money falls out.”This is a'}"
      ]
     },
     "execution_count": 19,
     "metadata": {},
     "output_type": "execute_result"
    }
   ],
   "source": [
    "import numpy as np\n",
    "\n",
    "collection_info = client.get_collection(\"test\")\n",
    "\n",
    "query_vector = np.random.rand(collection_info.config.params.vectors.size)\n",
    "hits = client.search(\n",
    "    collection_name=\"test\",\n",
    "    query_vector=query_vector,\n",
    "    query_filter=None,  # Don't use any filters for now, search across all indexed points\n",
    "    append_payload=True,  # Also return a stored payload for found points\n",
    "    limit=5  # Return 5 closest points\n",
    ")\n",
    "print(len(hits))\n",
    "hits[0].payload"
   ]
  },
  {
   "cell_type": "code",
   "execution_count": 28,
   "metadata": {},
   "outputs": [
    {
     "name": "stderr",
     "output_type": "stream",
     "text": [
      "INFO:httpx:HTTP Request: POST http://qdrant:6333/collections/test/points/search \"HTTP/1.1 200 OK\"\n",
      "INFO:llama_index.token_counter.token_counter:> [query] Total LLM token usage: 814 tokens\n",
      "INFO:llama_index.token_counter.token_counter:> [query] Total embedding token usage: 15 tokens\n"
     ]
    },
    {
     "name": "stdout",
     "output_type": "stream",
     "text": [
      "814\n",
      "15\n",
      "\n",
      "The author suggested that rather than relying on the traditional career conveyor belt, one should manage their own pace in order to prevent burnout, sustain a long-term career, and create compounding gains from investing into one's pace, people, prestige, profits, and learning.\n",
      "> Source (Doc id: 1e54e25e-ee9c-433c-b748-34c2102a7f06): learning.PaceThe biggest barrier to a forty year career is burnout, and preventing burnout is two...\n",
      "\n",
      "> Source (Doc id: 8f361dcc-8105-4c60-928e-65610ddea0a1): just such an approach.One last comment on learning: learning doesn’t come just from doing new thi...\n",
      "\n",
      "> Source (Doc id: 8aaca107-66d8-4f2d-864b-aaae2a895205): worked in their own small businesses. If you have the good fortune to start on the long-term care...\n"
     ]
    },
    {
     "data": {
      "text/plain": [
       "Response(response=\"\\nThe author suggested that rather than relying on the traditional career conveyor belt, one should manage their own pace in order to prevent burnout, sustain a long-term career, and create compounding gains from investing into one's pace, people, prestige, profits, and learning.\", source_nodes=[NodeWithScore(node=Node(text='learning.PaceThe biggest barrier to a forty year career is burnout, and preventing burnout is twofold. First, work on work you find meaningful. Second, manage your pace.For a long time my default approach to any situation was to take personal responsibility for it, and relatedly I have never worked a job where I didn’t experience aspects of burnout. When I joined Stripe, one of my stated goals was to approach my work in a way where I was doing my best work three, five, ten years rather than peaking early. To work at a pace I could sustain, instead of a blitz followed by a slow fizzling out.Energy management', doc_id='1e54e25e-ee9c-433c-b748-34c2102a7f06', embedding=None, doc_hash='c1c92aab04143ceb8fcefa85b0d6297dc01ee058994f0cd327c48cb117060b65', extra_info=None, node_info=None, relationships={<DocumentRelationship.SOURCE: '1'>: '68b5b80e-7212-433a-829b-bc5de10d6705'}), score=0.81661284), NodeWithScore(node=Node(text='just such an approach.One last comment on learning: learning doesn’t come just from doing new things. It also requires time carved out to reflect on how you did those new things and how you might adjust your future approach. Space to reflect is a precursor to improvement, which once again brings us back to the most important aspect of career management: managing your pace.Compounding gainsAs you invest into your pace, the people you know, the prestige you build, the profits to fuel financial security, and your deep and broad learning, something magical starts to happen: each of these makes the others easier. This to me is the joy of a forty year', doc_id='8f361dcc-8105-4c60-928e-65610ddea0a1', embedding=None, doc_hash='dd9a22f0c6804057dc79f06a9f1dec7563de69e04d60bc170fc204f31d7d5928', extra_info=None, node_info=None, relationships={<DocumentRelationship.SOURCE: '1'>: '68b5b80e-7212-433a-829b-bc5de10d6705'}), score=0.8103686), NodeWithScore(node=Node(text='worked in their own small businesses. If you have the good fortune to start on the long-term career conveyor belt, do your best to avoid tripping, and ride it to success, home ownership and eventually retirement.I did have exactly that good fortune to start on the conveyor belt, moving to San Francisco at 23, but what I found wasn’t the career conveyor belt that I expected. A different set of ideas reigned. Rather than careers, the zeitgeist reminded me of studying Death of a Salesman in high school, “Why, boys, when I was seventeen I walked into jungle and when I was twenty-one I walked out. And by God', doc_id='8aaca107-66d8-4f2d-864b-aaae2a895205', embedding=None, doc_hash='cd11c03f72271f20dba30adde05a2b8ad81a9d046f966e289cb7a4ca2ff85dcc', extra_info=None, node_info=None, relationships={<DocumentRelationship.SOURCE: '1'>: '68b5b80e-7212-433a-829b-bc5de10d6705'}), score=0.79964477)], extra_info={'1e54e25e-ee9c-433c-b748-34c2102a7f06': None, '8f361dcc-8105-4c60-928e-65610ddea0a1': None, '8aaca107-66d8-4f2d-864b-aaae2a895205': None})"
      ]
     },
     "execution_count": 28,
     "metadata": {},
     "output_type": "execute_result"
    }
   ],
   "source": [
    "response = index.query(\"What did the author say about career pace? Output just a single sentence.\", similarity_top_k=3)\n",
    "\n",
    "# response = index.query(\"What is the article about?\")\n",
    "\n",
    "print(llm_predictor.last_token_usage)\n",
    "print(embed_model.last_token_usage)\n",
    "response"
   ]
  },
  {
   "cell_type": "code",
   "execution_count": 41,
   "metadata": {},
   "outputs": [
    {
     "data": {
      "text/plain": [
       "\"\\nThe author suggested that rather than relying on the traditional career conveyor belt, one should manage their own pace in order to prevent burnout, sustain a long-term career, and create compounding gains from investing into one's pace, people, prestige, profits, and learning.\""
      ]
     },
     "execution_count": 41,
     "metadata": {},
     "output_type": "execute_result"
    }
   ],
   "source": [
    "response.response"
   ]
  }
 ],
 "metadata": {
  "kernelspec": {
   "display_name": "Python 3 (ipykernel)",
   "language": "python",
   "name": "python3"
  },
  "language_info": {
   "codemirror_mode": {
    "name": "ipython",
    "version": 3
   },
   "file_extension": ".py",
   "mimetype": "text/x-python",
   "name": "python",
   "nbconvert_exporter": "python",
   "pygments_lexer": "ipython3",
   "version": "3.10.4"
  },
  "orig_nbformat": 4
 },
 "nbformat": 4,
 "nbformat_minor": 2
}
