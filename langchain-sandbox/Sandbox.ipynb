{
 "cells": [
  {
   "cell_type": "code",
   "execution_count": 1,
   "metadata": {},
   "outputs": [
    {
     "data": {
      "text/plain": [
       "True"
      ]
     },
     "execution_count": 1,
     "metadata": {},
     "output_type": "execute_result"
    }
   ],
   "source": [
    "from dotenv import load_dotenv\n",
    "\n",
    "load_dotenv()"
   ]
  },
  {
   "cell_type": "code",
   "execution_count": 2,
   "metadata": {},
   "outputs": [
    {
     "data": {
      "text/plain": [
       "[Document(page_content='--- title: AHA Programming 💡 description: The dangers of DRY, the web of WET, the awesomeness of AHA. date: 2020-06-22 categories:   - programming meta:   keywords:     - programming     - coding translations:   - language: 한국어     link: https://goongoguma.github.io/2021/05/02/AHA-Programming/   - language: Vietnamese     link: https://anphan.com/vi/aha-programming     author:       name: An Phan       link: https://anphan.com   - language: Español     link: https://www.infoxicator.com/es/programacion-aha     author:       name: Ruben Casas       link: https://twitter.com/Infoxicador   - language: 日本語     link: https://smagch.', metadata={'id': 'fc7271c1-8c7a-4fe0-8519-d31fd206fc6f_0', 'metadata': {'source': 'file', 'source_id': None, 'url': None, 'created_at': None, 'author': None, 'document_id': 'fc7271c1-8c7a-4fe0-8519-d31fd206fc6f'}, 'embedding': None, 'score': 0.8587672710418701}),\n",
       " Document(page_content='/pulse/aha-programming-adith-widya-pradipta     author:       name: Adith Widya Pradipta       link: https://www.linkedin.com/in/adith-widya-pradipta-3a777894/ bannerCloudinaryId: unsplash/photo-1546942113-a6c43b63104a bannerCredit: Photo by [Joshua Sortino](https://unsplash.com/photos/Rnqa6jOpnHw) ---  [Watch my talk: AHA Programming](https://www.youtube.com/watch?v=wuVy7rwkCfc&list=PLV5CVI1eNcJgNqzNwcs4UKrlJdhfDjshf)  https://www.youtube.com/watch?', metadata={'id': 'fc7271c1-8c7a-4fe0-8519-d31fd206fc6f_2', 'metadata': {'source': 'file', 'source_id': None, 'url': None, 'created_at': None, 'author': None, 'document_id': 'fc7271c1-8c7a-4fe0-8519-d31fd206fc6f'}, 'embedding': None, 'score': 0.8444406986236572}),\n",
       " Document(page_content='It was AngularJS code and for several AngularJS controllers, the code passed `this` to a function which would monkey-patch methods and properties onto `this` in a way enhancing the controller instance with certain abilities. A sort of pseudo-inheritance thing I guess. It was SUPER confusing, hard to follow, and I was terrified to make any changes to that area of the codebase.  The code _was_ reused in lots more than three places, but the abstraction was bad and I wished that the code had been duplicated instead.  ## AHA 💡  `AHA` (pronounced \"Aha!\" like you just made a discovery) is an acronym I [got from](https://twitter.com/cherthedev/status/1112819136147742720) [Cher Scarlett](https://twitter.com/cherthedev) which stands for  > Avoid Hasty Abstractions', metadata={'id': 'fc7271c1-8c7a-4fe0-8519-d31fd206fc6f_5', 'metadata': {'source': 'file', 'source_id': None, 'url': None, 'created_at': None, 'author': None, 'document_id': 'fc7271c1-8c7a-4fe0-8519-d31fd206fc6f'}, 'embedding': None, 'score': 0.8237109780311584})]"
      ]
     },
     "execution_count": 2,
     "metadata": {},
     "output_type": "execute_result"
    }
   ],
   "source": [
    "import os\n",
    "from langchain.retrievers import ChatGPTPluginRetriever\n",
    "\n",
    "retriever = ChatGPTPluginRetriever(url=\"http://0.0.0.0:3333\", bearer_token=os.getenv(\"BEARER_TOKEN\"))\n",
    "retriever.get_relevant_documents(\"AHA programming\")"
   ]
  },
  {
   "cell_type": "code",
   "execution_count": 20,
   "metadata": {},
   "outputs": [],
   "source": [
    "from langchain.llms import OpenAI\n",
    "from langchain.chains import RetrievalQA\n",
    "\n",
    "chain = RetrievalQA.from_llm(OpenAI(temperature=0), retriever=retriever)"
   ]
  },
  {
   "cell_type": "code",
   "execution_count": 24,
   "metadata": {},
   "outputs": [
    {
     "data": {
      "text/plain": [
       "{'query': 'What did the author say about AHA programming?',\n",
       " 'result': ' The author said that they prefer AHA programming over DRY or WET because it helps them be mindful of their abstractions without giving hard-fast rules.'}"
      ]
     },
     "execution_count": 24,
     "metadata": {},
     "output_type": "execute_result"
    }
   ],
   "source": [
    "query = \"What did the author say about AHA programming?\"\n",
    "result = chain({\"query\": query})\n",
    "result"
   ]
  },
  {
   "cell_type": "code",
   "execution_count": 12,
   "metadata": {},
   "outputs": [],
   "source": [
    "from langchain.llms import OpenAI\n",
    "from langchain.chains import ConversationalRetrievalChain\n",
    "from langchain.memory import ConversationBufferMemory\n",
    "\n",
    "memory = ConversationBufferMemory(memory_key=\"chat_history\", output_key=\"answer\", return_messages=True)\n",
    "qa = ConversationalRetrievalChain.from_llm(OpenAI(temperature=0), retriever, memory=memory, return_source_documents=True)"
   ]
  },
  {
   "cell_type": "code",
   "execution_count": 16,
   "metadata": {},
   "outputs": [
    {
     "data": {
      "text/plain": [
       "' The render prop pattern in React programming is a pattern where rather than having the toggle component be responsible for doing anything special in the render method, the responsibility is delegated to the user and they are given the state and functions necessary to allow the user of the component to render what they need for their use case.'"
      ]
     },
     "execution_count": 16,
     "metadata": {},
     "output_type": "execute_result"
    }
   ],
   "source": [
    "query = \"What is the render prop pattern?\"\n",
    "result = qa({\"question\": query})\n",
    "result[\"answer\"]"
   ]
  },
  {
   "cell_type": "code",
   "execution_count": 17,
   "metadata": {},
   "outputs": [
    {
     "data": {
      "text/plain": [
       "[Document(page_content=\"widespread pattern and can still be useful. Later on, I show you how to implement an HOC from a render prop, which leads us to our next pattern...  ### Render Props  This is my favorite pattern! The earliest use of this pattern in React that I'm aware of was in [`react-motion`](https://github.com/chenglou/react-motion) by [Cheng Lou](https://twitter.com/_chenglou). In this lesson we go back to the beginning a bit and slowly refactor our original toggle implementation to the render prop pattern. Hopefully with this refactor you'll see both the power and the simplicity of the render prop pattern.  The basic idea of the pattern is that rather than have the toggle component be responsible for doing anything special in the `render` method, we delegate that responsibility over to the user and we give them the state and functions\", metadata={'id': 'c3937f04-f3cf-4ed2-a0ec-cd1c3fb5af24_7', 'metadata': {'source': 'file', 'source_id': None, 'url': None, 'created_at': None, 'author': None, 'document_id': 'c3937f04-f3cf-4ed2-a0ec-cd1c3fb5af24'}, 'embedding': None, 'score': 0.8639260530471802}),\n",
       " Document(page_content='/kentcdodds/advanced-react-patterns/blob/736bc941e629af5acae2e827356d6996e923780e/18-use-redux-with-render-props/index.html) [the toggle component to a redux component](https://cdn.rawgit.com/kentcdodds/advanced-react-patterns/736bc941e629af5acae2e827356d6996e923780e/18-use-redux-with-render-props/index.html) affectionately called \"Rendux.\" I think that you\\'ll be **blown away** by the flexibility of some of these patterns to make this refactor a pretty straightforward one.  ![I am blown away!](https://res.cloudinary.com/kentcdodds-com/image/upload/v1625030269/kentcdodds.com/content/blog/advanced-react-component-patterns/images/1.gif)', metadata={'id': 'c3937f04-f3cf-4ed2-a0ec-cd1c3fb5af24_3', 'metadata': {'source': 'file', 'source_id': None, 'url': None, 'created_at': None, 'author': None, 'document_id': 'c3937f04-f3cf-4ed2-a0ec-cd1c3fb5af24'}, 'embedding': None, 'score': 0.8199306130409241}),\n",
       " Document(page_content='necessary to allow the user of the component to render what they need for their use case.  My personal favorite implementation of this pattern (and some of the following patterns) is [`downshift`](https://github.com/downshift-js/downshift) [🏎](https://github.com/downshift-js/downshift), but [I\\'m a little bit biased](/blog/introducing-downshift-for-react) 😅  ### Prop Collections and Getters  Often when using the render prop, there are elements that commonly require the same props applied for accessibility or interactivity purposes. In the toggle example that applies to what we\\'re calling the \"toggler\" or the button/element that\\'s responsible for changing the `on` state of our toggle component. So we can take these common props and put them into an object collection which can be applied to the element we want.  There\\'s a problem with prop collections that has to do with composability and', metadata={'id': 'c3937f04-f3cf-4ed2-a0ec-cd1c3fb5af24_8', 'metadata': {'source': 'file', 'source_id': None, 'url': None, 'created_at': None, 'author': None, 'document_id': 'c3937f04-f3cf-4ed2-a0ec-cd1c3fb5af24'}, 'embedding': None, 'score': 0.8197760581970215})]"
      ]
     },
     "execution_count": 17,
     "metadata": {},
     "output_type": "execute_result"
    }
   ],
   "source": [
    "result['source_documents']"
   ]
  }
 ],
 "metadata": {
  "kernelspec": {
   "display_name": "Python 3",
   "language": "python",
   "name": "python3"
  },
  "language_info": {
   "codemirror_mode": {
    "name": "ipython",
    "version": 3
   },
   "file_extension": ".py",
   "mimetype": "text/x-python",
   "name": "python",
   "nbconvert_exporter": "python",
   "pygments_lexer": "ipython3",
   "version": "3.10.4"
  },
  "orig_nbformat": 4
 },
 "nbformat": 4,
 "nbformat_minor": 2
}
